{
 "cells": [
  {
   "cell_type": "markdown",
   "metadata": {},
   "source": [
    "# MODEL COMPARISON"
   ]
  },
  {
   "cell_type": "code",
   "execution_count": 726,
   "metadata": {},
   "outputs": [],
   "source": [
    "import warnings\n",
    "warnings.filterwarnings('ignore')  #ignore warnings\n",
    "import numpy as np                 #library used for working with arrays\n",
    "import matplotlib.pyplot as plt    #create,plot,decorate figures\n",
    "import seaborn as sns              #data visualization\n",
    "import pandas as pd                #working with table data\n",
    "%matplotlib inline\n",
    "sns.set_style('darkgrid')          #setting styles"
   ]
  },
  {
   "cell_type": "code",
   "execution_count": 727,
   "metadata": {},
   "outputs": [
    {
     "data": {
      "text/html": [
       "<div>\n",
       "<style scoped>\n",
       "    .dataframe tbody tr th:only-of-type {\n",
       "        vertical-align: middle;\n",
       "    }\n",
       "\n",
       "    .dataframe tbody tr th {\n",
       "        vertical-align: top;\n",
       "    }\n",
       "\n",
       "    .dataframe thead th {\n",
       "        text-align: right;\n",
       "    }\n",
       "</style>\n",
       "<table border=\"1\" class=\"dataframe\">\n",
       "  <thead>\n",
       "    <tr style=\"text-align: right;\">\n",
       "      <th></th>\n",
       "      <th>Pregnancies</th>\n",
       "      <th>Glucose</th>\n",
       "      <th>BloodPressure</th>\n",
       "      <th>SkinThickness</th>\n",
       "      <th>Insulin</th>\n",
       "      <th>BMI</th>\n",
       "      <th>DiabetesPedigreeFunction</th>\n",
       "      <th>Age</th>\n",
       "      <th>Outcome</th>\n",
       "    </tr>\n",
       "  </thead>\n",
       "  <tbody>\n",
       "    <tr>\n",
       "      <th>0</th>\n",
       "      <td>6</td>\n",
       "      <td>148</td>\n",
       "      <td>72</td>\n",
       "      <td>35</td>\n",
       "      <td>0</td>\n",
       "      <td>33.6</td>\n",
       "      <td>0.627</td>\n",
       "      <td>50</td>\n",
       "      <td>1</td>\n",
       "    </tr>\n",
       "    <tr>\n",
       "      <th>1</th>\n",
       "      <td>1</td>\n",
       "      <td>85</td>\n",
       "      <td>66</td>\n",
       "      <td>29</td>\n",
       "      <td>0</td>\n",
       "      <td>26.6</td>\n",
       "      <td>0.351</td>\n",
       "      <td>31</td>\n",
       "      <td>0</td>\n",
       "    </tr>\n",
       "    <tr>\n",
       "      <th>2</th>\n",
       "      <td>8</td>\n",
       "      <td>183</td>\n",
       "      <td>64</td>\n",
       "      <td>0</td>\n",
       "      <td>0</td>\n",
       "      <td>23.3</td>\n",
       "      <td>0.672</td>\n",
       "      <td>32</td>\n",
       "      <td>1</td>\n",
       "    </tr>\n",
       "    <tr>\n",
       "      <th>3</th>\n",
       "      <td>1</td>\n",
       "      <td>89</td>\n",
       "      <td>66</td>\n",
       "      <td>23</td>\n",
       "      <td>94</td>\n",
       "      <td>28.1</td>\n",
       "      <td>0.167</td>\n",
       "      <td>21</td>\n",
       "      <td>0</td>\n",
       "    </tr>\n",
       "    <tr>\n",
       "      <th>4</th>\n",
       "      <td>0</td>\n",
       "      <td>137</td>\n",
       "      <td>40</td>\n",
       "      <td>35</td>\n",
       "      <td>168</td>\n",
       "      <td>43.1</td>\n",
       "      <td>2.288</td>\n",
       "      <td>33</td>\n",
       "      <td>1</td>\n",
       "    </tr>\n",
       "  </tbody>\n",
       "</table>\n",
       "</div>"
      ],
      "text/plain": [
       "   Pregnancies  Glucose  BloodPressure  SkinThickness  Insulin   BMI  \\\n",
       "0            6      148             72             35        0  33.6   \n",
       "1            1       85             66             29        0  26.6   \n",
       "2            8      183             64              0        0  23.3   \n",
       "3            1       89             66             23       94  28.1   \n",
       "4            0      137             40             35      168  43.1   \n",
       "\n",
       "   DiabetesPedigreeFunction  Age  Outcome  \n",
       "0                     0.627   50        1  \n",
       "1                     0.351   31        0  \n",
       "2                     0.672   32        1  \n",
       "3                     0.167   21        0  \n",
       "4                     2.288   33        1  "
      ]
     },
     "execution_count": 727,
     "metadata": {},
     "output_type": "execute_result"
    }
   ],
   "source": [
    "df=pd.read_csv('E:/Project/Diabetes/diabetes.csv')\n",
    "df.head()"
   ]
  },
  {
   "cell_type": "code",
   "execution_count": 728,
   "metadata": {},
   "outputs": [
    {
     "name": "stdout",
     "output_type": "stream",
     "text": [
      "Shape of Data is==> (768, 9)\n"
     ]
    }
   ],
   "source": [
    "print(\"Shape of Data is==>\",df.shape)"
   ]
  },
  {
   "cell_type": "code",
   "execution_count": 729,
   "metadata": {},
   "outputs": [
    {
     "name": "stdout",
     "output_type": "stream",
     "text": [
      "<class 'pandas.core.frame.DataFrame'>\n",
      "RangeIndex: 768 entries, 0 to 767\n",
      "Data columns (total 9 columns):\n",
      " #   Column                    Non-Null Count  Dtype  \n",
      "---  ------                    --------------  -----  \n",
      " 0   Pregnancies               768 non-null    int64  \n",
      " 1   Glucose                   768 non-null    int64  \n",
      " 2   BloodPressure             768 non-null    int64  \n",
      " 3   SkinThickness             768 non-null    int64  \n",
      " 4   Insulin                   768 non-null    int64  \n",
      " 5   BMI                       768 non-null    float64\n",
      " 6   DiabetesPedigreeFunction  768 non-null    float64\n",
      " 7   Age                       768 non-null    int64  \n",
      " 8   Outcome                   768 non-null    int64  \n",
      "dtypes: float64(2), int64(7)\n",
      "memory usage: 54.1 KB\n"
     ]
    }
   ],
   "source": [
    "df.info()         #information"
   ]
  },
  {
   "cell_type": "code",
   "execution_count": 730,
   "metadata": {},
   "outputs": [
    {
     "data": {
      "text/html": [
       "<div>\n",
       "<style scoped>\n",
       "    .dataframe tbody tr th:only-of-type {\n",
       "        vertical-align: middle;\n",
       "    }\n",
       "\n",
       "    .dataframe tbody tr th {\n",
       "        vertical-align: top;\n",
       "    }\n",
       "\n",
       "    .dataframe thead th {\n",
       "        text-align: right;\n",
       "    }\n",
       "</style>\n",
       "<table border=\"1\" class=\"dataframe\">\n",
       "  <thead>\n",
       "    <tr style=\"text-align: right;\">\n",
       "      <th></th>\n",
       "      <th>count</th>\n",
       "      <th>mean</th>\n",
       "      <th>std</th>\n",
       "      <th>min</th>\n",
       "      <th>25%</th>\n",
       "      <th>50%</th>\n",
       "      <th>75%</th>\n",
       "      <th>max</th>\n",
       "    </tr>\n",
       "  </thead>\n",
       "  <tbody>\n",
       "    <tr>\n",
       "      <th>Pregnancies</th>\n",
       "      <td>768.0</td>\n",
       "      <td>3.845052</td>\n",
       "      <td>3.369578</td>\n",
       "      <td>0.000</td>\n",
       "      <td>1.00000</td>\n",
       "      <td>3.0000</td>\n",
       "      <td>6.00000</td>\n",
       "      <td>17.00</td>\n",
       "    </tr>\n",
       "    <tr>\n",
       "      <th>Glucose</th>\n",
       "      <td>768.0</td>\n",
       "      <td>120.894531</td>\n",
       "      <td>31.972618</td>\n",
       "      <td>0.000</td>\n",
       "      <td>99.00000</td>\n",
       "      <td>117.0000</td>\n",
       "      <td>140.25000</td>\n",
       "      <td>199.00</td>\n",
       "    </tr>\n",
       "    <tr>\n",
       "      <th>BloodPressure</th>\n",
       "      <td>768.0</td>\n",
       "      <td>69.105469</td>\n",
       "      <td>19.355807</td>\n",
       "      <td>0.000</td>\n",
       "      <td>62.00000</td>\n",
       "      <td>72.0000</td>\n",
       "      <td>80.00000</td>\n",
       "      <td>122.00</td>\n",
       "    </tr>\n",
       "    <tr>\n",
       "      <th>SkinThickness</th>\n",
       "      <td>768.0</td>\n",
       "      <td>20.536458</td>\n",
       "      <td>15.952218</td>\n",
       "      <td>0.000</td>\n",
       "      <td>0.00000</td>\n",
       "      <td>23.0000</td>\n",
       "      <td>32.00000</td>\n",
       "      <td>99.00</td>\n",
       "    </tr>\n",
       "    <tr>\n",
       "      <th>Insulin</th>\n",
       "      <td>768.0</td>\n",
       "      <td>79.799479</td>\n",
       "      <td>115.244002</td>\n",
       "      <td>0.000</td>\n",
       "      <td>0.00000</td>\n",
       "      <td>30.5000</td>\n",
       "      <td>127.25000</td>\n",
       "      <td>846.00</td>\n",
       "    </tr>\n",
       "    <tr>\n",
       "      <th>BMI</th>\n",
       "      <td>768.0</td>\n",
       "      <td>31.992578</td>\n",
       "      <td>7.884160</td>\n",
       "      <td>0.000</td>\n",
       "      <td>27.30000</td>\n",
       "      <td>32.0000</td>\n",
       "      <td>36.60000</td>\n",
       "      <td>67.10</td>\n",
       "    </tr>\n",
       "    <tr>\n",
       "      <th>DiabetesPedigreeFunction</th>\n",
       "      <td>768.0</td>\n",
       "      <td>0.471876</td>\n",
       "      <td>0.331329</td>\n",
       "      <td>0.078</td>\n",
       "      <td>0.24375</td>\n",
       "      <td>0.3725</td>\n",
       "      <td>0.62625</td>\n",
       "      <td>2.42</td>\n",
       "    </tr>\n",
       "    <tr>\n",
       "      <th>Age</th>\n",
       "      <td>768.0</td>\n",
       "      <td>33.240885</td>\n",
       "      <td>11.760232</td>\n",
       "      <td>21.000</td>\n",
       "      <td>24.00000</td>\n",
       "      <td>29.0000</td>\n",
       "      <td>41.00000</td>\n",
       "      <td>81.00</td>\n",
       "    </tr>\n",
       "    <tr>\n",
       "      <th>Outcome</th>\n",
       "      <td>768.0</td>\n",
       "      <td>0.348958</td>\n",
       "      <td>0.476951</td>\n",
       "      <td>0.000</td>\n",
       "      <td>0.00000</td>\n",
       "      <td>0.0000</td>\n",
       "      <td>1.00000</td>\n",
       "      <td>1.00</td>\n",
       "    </tr>\n",
       "  </tbody>\n",
       "</table>\n",
       "</div>"
      ],
      "text/plain": [
       "                          count        mean         std     min       25%  \\\n",
       "Pregnancies               768.0    3.845052    3.369578   0.000   1.00000   \n",
       "Glucose                   768.0  120.894531   31.972618   0.000  99.00000   \n",
       "BloodPressure             768.0   69.105469   19.355807   0.000  62.00000   \n",
       "SkinThickness             768.0   20.536458   15.952218   0.000   0.00000   \n",
       "Insulin                   768.0   79.799479  115.244002   0.000   0.00000   \n",
       "BMI                       768.0   31.992578    7.884160   0.000  27.30000   \n",
       "DiabetesPedigreeFunction  768.0    0.471876    0.331329   0.078   0.24375   \n",
       "Age                       768.0   33.240885   11.760232  21.000  24.00000   \n",
       "Outcome                   768.0    0.348958    0.476951   0.000   0.00000   \n",
       "\n",
       "                               50%        75%     max  \n",
       "Pregnancies                 3.0000    6.00000   17.00  \n",
       "Glucose                   117.0000  140.25000  199.00  \n",
       "BloodPressure              72.0000   80.00000  122.00  \n",
       "SkinThickness              23.0000   32.00000   99.00  \n",
       "Insulin                    30.5000  127.25000  846.00  \n",
       "BMI                        32.0000   36.60000   67.10  \n",
       "DiabetesPedigreeFunction    0.3725    0.62625    2.42  \n",
       "Age                        29.0000   41.00000   81.00  \n",
       "Outcome                     0.0000    1.00000    1.00  "
      ]
     },
     "execution_count": 730,
     "metadata": {},
     "output_type": "execute_result"
    }
   ],
   "source": [
    "df.describe().T                #description"
   ]
  },
  {
   "cell_type": "code",
   "execution_count": 731,
   "metadata": {},
   "outputs": [
    {
     "name": "stdout",
     "output_type": "stream",
     "text": [
      "Pregnancies\n",
      "Glucose\n",
      "BloodPressure\n",
      "SkinThickness\n",
      "Insulin\n",
      "BMI\n",
      "DiabetesPedigreeFunction\n",
      "Age\n",
      "Outcome\n"
     ]
    }
   ],
   "source": [
    "for i in df.columns:                #variable names\n",
    "    print(i)             "
   ]
  },
  {
   "cell_type": "code",
   "execution_count": 732,
   "metadata": {},
   "outputs": [
    {
     "data": {
      "text/html": [
       "<div>\n",
       "<style scoped>\n",
       "    .dataframe tbody tr th:only-of-type {\n",
       "        vertical-align: middle;\n",
       "    }\n",
       "\n",
       "    .dataframe tbody tr th {\n",
       "        vertical-align: top;\n",
       "    }\n",
       "\n",
       "    .dataframe thead th {\n",
       "        text-align: right;\n",
       "    }\n",
       "</style>\n",
       "<table border=\"1\" class=\"dataframe\">\n",
       "  <thead>\n",
       "    <tr style=\"text-align: right;\">\n",
       "      <th></th>\n",
       "      <th>Pregnancies</th>\n",
       "      <th>Glucose</th>\n",
       "      <th>BloodPressure</th>\n",
       "      <th>SkinThickness</th>\n",
       "      <th>Insulin</th>\n",
       "      <th>BMI</th>\n",
       "      <th>DPF</th>\n",
       "      <th>Age</th>\n",
       "      <th>Outcome</th>\n",
       "    </tr>\n",
       "  </thead>\n",
       "  <tbody>\n",
       "    <tr>\n",
       "      <th>0</th>\n",
       "      <td>6</td>\n",
       "      <td>148</td>\n",
       "      <td>72</td>\n",
       "      <td>35</td>\n",
       "      <td>0</td>\n",
       "      <td>33.6</td>\n",
       "      <td>0.627</td>\n",
       "      <td>50</td>\n",
       "      <td>1</td>\n",
       "    </tr>\n",
       "    <tr>\n",
       "      <th>1</th>\n",
       "      <td>1</td>\n",
       "      <td>85</td>\n",
       "      <td>66</td>\n",
       "      <td>29</td>\n",
       "      <td>0</td>\n",
       "      <td>26.6</td>\n",
       "      <td>0.351</td>\n",
       "      <td>31</td>\n",
       "      <td>0</td>\n",
       "    </tr>\n",
       "    <tr>\n",
       "      <th>2</th>\n",
       "      <td>8</td>\n",
       "      <td>183</td>\n",
       "      <td>64</td>\n",
       "      <td>0</td>\n",
       "      <td>0</td>\n",
       "      <td>23.3</td>\n",
       "      <td>0.672</td>\n",
       "      <td>32</td>\n",
       "      <td>1</td>\n",
       "    </tr>\n",
       "    <tr>\n",
       "      <th>3</th>\n",
       "      <td>1</td>\n",
       "      <td>89</td>\n",
       "      <td>66</td>\n",
       "      <td>23</td>\n",
       "      <td>94</td>\n",
       "      <td>28.1</td>\n",
       "      <td>0.167</td>\n",
       "      <td>21</td>\n",
       "      <td>0</td>\n",
       "    </tr>\n",
       "    <tr>\n",
       "      <th>4</th>\n",
       "      <td>0</td>\n",
       "      <td>137</td>\n",
       "      <td>40</td>\n",
       "      <td>35</td>\n",
       "      <td>168</td>\n",
       "      <td>43.1</td>\n",
       "      <td>2.288</td>\n",
       "      <td>33</td>\n",
       "      <td>1</td>\n",
       "    </tr>\n",
       "  </tbody>\n",
       "</table>\n",
       "</div>"
      ],
      "text/plain": [
       "   Pregnancies  Glucose  BloodPressure  SkinThickness  Insulin   BMI    DPF  \\\n",
       "0            6      148             72             35        0  33.6  0.627   \n",
       "1            1       85             66             29        0  26.6  0.351   \n",
       "2            8      183             64              0        0  23.3  0.672   \n",
       "3            1       89             66             23       94  28.1  0.167   \n",
       "4            0      137             40             35      168  43.1  2.288   \n",
       "\n",
       "   Age  Outcome  \n",
       "0   50        1  \n",
       "1   31        0  \n",
       "2   32        1  \n",
       "3   21        0  \n",
       "4   33        1  "
      ]
     },
     "execution_count": 732,
     "metadata": {},
     "output_type": "execute_result"
    }
   ],
   "source": [
    "df.rename({'DiabetesPedigreeFunction':'DPF'},inplace=True,axis=1)\n",
    "df.head()"
   ]
  },
  {
   "cell_type": "code",
   "execution_count": 733,
   "metadata": {},
   "outputs": [
    {
     "data": {
      "text/plain": [
       "Pregnancies        int64\n",
       "Glucose            int64\n",
       "BloodPressure      int64\n",
       "SkinThickness      int64\n",
       "Insulin            int64\n",
       "BMI              float64\n",
       "DPF              float64\n",
       "Age                int64\n",
       "Outcome            int64\n",
       "dtype: object"
      ]
     },
     "execution_count": 733,
     "metadata": {},
     "output_type": "execute_result"
    }
   ],
   "source": [
    "df.dtypes"
   ]
  },
  {
   "cell_type": "markdown",
   "metadata": {},
   "source": [
    "################################################################\n",
    "\n",
    "📌Defining a function for Detecting and Exluding Outliers\n",
    "\n",
    "################################################################"
   ]
  },
  {
   "cell_type": "code",
   "execution_count": 734,
   "metadata": {},
   "outputs": [],
   "source": [
    "def std_based(col_name,df):                    #taking range between mean- or +std\n",
    "    mean = df[col_name].mean()\n",
    "    std = df[col_name].std()\n",
    "    cut_off = std * 3\n",
    "    lower, upper = mean - cut_off, mean + cut_off\n",
    "    new_df = df[(df[col_name] < upper) & (df[col_name] > lower)]\n",
    "    return new_df"
   ]
  },
  {
   "cell_type": "markdown",
   "metadata": {},
   "source": [
    "############################################################\n",
    "\n",
    "📌 Checking if there are any NULL values.\n",
    "\n",
    "############################################################"
   ]
  },
  {
   "cell_type": "code",
   "execution_count": 735,
   "metadata": {},
   "outputs": [
    {
     "data": {
      "text/plain": [
       "Pregnancies      0\n",
       "Glucose          0\n",
       "BloodPressure    0\n",
       "SkinThickness    0\n",
       "Insulin          0\n",
       "BMI              0\n",
       "DPF              0\n",
       "Age              0\n",
       "Outcome          0\n",
       "dtype: int64"
      ]
     },
     "execution_count": 735,
     "metadata": {},
     "output_type": "execute_result"
    }
   ],
   "source": [
    "df.isnull().sum()                            #this will show the number of missing values."
   ]
  },
  {
   "cell_type": "code",
   "execution_count": 736,
   "metadata": {},
   "outputs": [
    {
     "data": {
      "text/plain": [
       "count    768.000000\n",
       "mean       3.845052\n",
       "std        3.369578\n",
       "min        0.000000\n",
       "25%        1.000000\n",
       "50%        3.000000\n",
       "75%        6.000000\n",
       "max       17.000000\n",
       "Name: Pregnancies, dtype: float64"
      ]
     },
     "execution_count": 736,
     "metadata": {},
     "output_type": "execute_result"
    }
   ],
   "source": [
    "df['Pregnancies'].describe()               #description"
   ]
  },
  {
   "cell_type": "code",
   "execution_count": 737,
   "metadata": {},
   "outputs": [
    {
     "data": {
      "text/plain": [
       "Text(0.5, 1.0, 'Five Point Summary')"
      ]
     },
     "execution_count": 737,
     "metadata": {},
     "output_type": "execute_result"
    },
    {
     "data": {
      "image/png": "[encoded data removed]",
      "text/plain": [
       "<Figure size 432x288 with 1 Axes>"
      ]
     },
     "metadata": {},
     "output_type": "display_data"
    }
   ],
   "source": [
    "#sns.boxplot use to draw boxplots\n",
    "\n",
    "sns.boxplot('Pregnancies',data=df).set_title('Five Point Summary')"
   ]
  },
  {
   "cell_type": "code",
   "execution_count": 738,
   "metadata": {},
   "outputs": [
    {
     "data": {
      "text/plain": [
       "Text(0.5, 1.0, 'Five Point Summary')"
      ]
     },
     "execution_count": 738,
     "metadata": {},
     "output_type": "execute_result"
    },
    {
     "data": {
      "image/png": "[encoded data removed]",
      "text/plain": [
       "<Figure size 432x288 with 1 Axes>"
      ]
     },
     "metadata": {},
     "output_type": "display_data"
    }
   ],
   "source": [
    "#Treating outlier and verifying it\n",
    "\n",
    "df = std_based('Pregnancies',df)\n",
    "\n",
    "sns.boxplot('Pregnancies',data=df).set_title('Five Point Summary')"
   ]
  },
  {
   "cell_type": "code",
   "execution_count": 739,
   "metadata": {},
   "outputs": [
    {
     "data": {
      "text/plain": [
       "count    764.000000\n",
       "mean     120.776178\n",
       "std       31.946234\n",
       "min        0.000000\n",
       "25%       99.000000\n",
       "50%      117.000000\n",
       "75%      140.000000\n",
       "max      199.000000\n",
       "Name: Glucose, dtype: float64"
      ]
     },
     "execution_count": 739,
     "metadata": {},
     "output_type": "execute_result"
    }
   ],
   "source": [
    "df['Glucose'].describe()"
   ]
  },
  {
   "cell_type": "code",
   "execution_count": 740,
   "metadata": {},
   "outputs": [
    {
     "data": {
      "text/plain": [
       "Text(0.5, 1.0, 'Five Point Summary')"
      ]
     },
     "execution_count": 740,
     "metadata": {},
     "output_type": "execute_result"
    },
    {
     "data": {
      "image/png": "[encoded data removed]",
      "text/plain": [
       "<Figure size 432x288 with 1 Axes>"
      ]
     },
     "metadata": {},
     "output_type": "display_data"
    }
   ],
   "source": [
    "sns.boxplot('Glucose',data=df,color='green').set_title('Five Point Summary')"
   ]
  },
  {
   "cell_type": "code",
   "execution_count": 741,
   "metadata": {},
   "outputs": [
    {
     "data": {
      "text/html": [
       "<div>\n",
       "<style scoped>\n",
       "    .dataframe tbody tr th:only-of-type {\n",
       "        vertical-align: middle;\n",
       "    }\n",
       "\n",
       "    .dataframe tbody tr th {\n",
       "        vertical-align: top;\n",
       "    }\n",
       "\n",
       "    .dataframe thead th {\n",
       "        text-align: right;\n",
       "    }\n",
       "</style>\n",
       "<table border=\"1\" class=\"dataframe\">\n",
       "  <thead>\n",
       "    <tr style=\"text-align: right;\">\n",
       "      <th></th>\n",
       "      <th>Pregnancies</th>\n",
       "      <th>Glucose</th>\n",
       "      <th>BloodPressure</th>\n",
       "      <th>SkinThickness</th>\n",
       "      <th>Insulin</th>\n",
       "      <th>BMI</th>\n",
       "      <th>DPF</th>\n",
       "      <th>Age</th>\n",
       "      <th>Outcome</th>\n",
       "    </tr>\n",
       "  </thead>\n",
       "  <tbody>\n",
       "    <tr>\n",
       "      <th>0</th>\n",
       "      <td>6</td>\n",
       "      <td>148.0</td>\n",
       "      <td>72</td>\n",
       "      <td>35</td>\n",
       "      <td>0</td>\n",
       "      <td>33.6</td>\n",
       "      <td>0.627</td>\n",
       "      <td>50</td>\n",
       "      <td>1</td>\n",
       "    </tr>\n",
       "    <tr>\n",
       "      <th>1</th>\n",
       "      <td>1</td>\n",
       "      <td>85.0</td>\n",
       "      <td>66</td>\n",
       "      <td>29</td>\n",
       "      <td>0</td>\n",
       "      <td>26.6</td>\n",
       "      <td>0.351</td>\n",
       "      <td>31</td>\n",
       "      <td>0</td>\n",
       "    </tr>\n",
       "    <tr>\n",
       "      <th>2</th>\n",
       "      <td>8</td>\n",
       "      <td>183.0</td>\n",
       "      <td>64</td>\n",
       "      <td>0</td>\n",
       "      <td>0</td>\n",
       "      <td>23.3</td>\n",
       "      <td>0.672</td>\n",
       "      <td>32</td>\n",
       "      <td>1</td>\n",
       "    </tr>\n",
       "    <tr>\n",
       "      <th>3</th>\n",
       "      <td>1</td>\n",
       "      <td>89.0</td>\n",
       "      <td>66</td>\n",
       "      <td>23</td>\n",
       "      <td>94</td>\n",
       "      <td>28.1</td>\n",
       "      <td>0.167</td>\n",
       "      <td>21</td>\n",
       "      <td>0</td>\n",
       "    </tr>\n",
       "    <tr>\n",
       "      <th>4</th>\n",
       "      <td>0</td>\n",
       "      <td>137.0</td>\n",
       "      <td>40</td>\n",
       "      <td>35</td>\n",
       "      <td>168</td>\n",
       "      <td>43.1</td>\n",
       "      <td>2.288</td>\n",
       "      <td>33</td>\n",
       "      <td>1</td>\n",
       "    </tr>\n",
       "  </tbody>\n",
       "</table>\n",
       "</div>"
      ],
      "text/plain": [
       "   Pregnancies  Glucose  BloodPressure  SkinThickness  Insulin   BMI    DPF  \\\n",
       "0            6    148.0             72             35        0  33.6  0.627   \n",
       "1            1     85.0             66             29        0  26.6  0.351   \n",
       "2            8    183.0             64              0        0  23.3  0.672   \n",
       "3            1     89.0             66             23       94  28.1  0.167   \n",
       "4            0    137.0             40             35      168  43.1  2.288   \n",
       "\n",
       "   Age  Outcome  \n",
       "0   50        1  \n",
       "1   31        0  \n",
       "2   32        1  \n",
       "3   21        0  \n",
       "4   33        1  "
      ]
     },
     "execution_count": 741,
     "metadata": {},
     "output_type": "execute_result"
    }
   ],
   "source": [
    "df.Glucose = df.Glucose.replace(0,df.Glucose.mean()) ##### 0 values are replaced by mean ###### \n",
    "df.head()"
   ]
  },
  {
   "cell_type": "code",
   "execution_count": 742,
   "metadata": {},
   "outputs": [
    {
     "data": {
      "text/plain": [
       "Text(0.5, 1.0, 'Five Point Summary')"
      ]
     },
     "execution_count": 742,
     "metadata": {},
     "output_type": "execute_result"
    },
    {
     "data": {
      "image/png": "[encoded data removed]",
      "text/plain": [
       "<Figure size 432x288 with 1 Axes>"
      ]
     },
     "metadata": {},
     "output_type": "display_data"
    }
   ],
   "source": [
    "sns.boxplot('Glucose',data=df,color='g').set_title('Five Point Summary')"
   ]
  },
  {
   "cell_type": "code",
   "execution_count": 743,
   "metadata": {},
   "outputs": [
    {
     "data": {
      "text/plain": [
       "count    764.000000\n",
       "mean      69.098168\n",
       "std       19.401789\n",
       "min        0.000000\n",
       "25%       62.000000\n",
       "50%       72.000000\n",
       "75%       80.000000\n",
       "max      122.000000\n",
       "Name: BloodPressure, dtype: float64"
      ]
     },
     "execution_count": 743,
     "metadata": {},
     "output_type": "execute_result"
    }
   ],
   "source": [
    "df.BloodPressure.describe()"
   ]
  },
  {
   "cell_type": "code",
   "execution_count": 744,
   "metadata": {},
   "outputs": [
    {
     "data": {
      "text/plain": [
       "Text(0.5, 1.0, 'Five Point Summary')"
      ]
     },
     "execution_count": 744,
     "metadata": {},
     "output_type": "execute_result"
    },
    {
     "data": {
      "image/png": "[encoded data removed]",
      "text/plain": [
       "<Figure size 432x288 with 1 Axes>"
      ]
     },
     "metadata": {},
     "output_type": "display_data"
    }
   ],
   "source": [
    "sns.boxplot('BloodPressure',data=df,color='m').set_title('Five Point Summary')"
   ]
  },
  {
   "cell_type": "code",
   "execution_count": 745,
   "metadata": {},
   "outputs": [
    {
     "data": {
      "text/html": [
       "<div>\n",
       "<style scoped>\n",
       "    .dataframe tbody tr th:only-of-type {\n",
       "        vertical-align: middle;\n",
       "    }\n",
       "\n",
       "    .dataframe tbody tr th {\n",
       "        vertical-align: top;\n",
       "    }\n",
       "\n",
       "    .dataframe thead th {\n",
       "        text-align: right;\n",
       "    }\n",
       "</style>\n",
       "<table border=\"1\" class=\"dataframe\">\n",
       "  <thead>\n",
       "    <tr style=\"text-align: right;\">\n",
       "      <th></th>\n",
       "      <th>Pregnancies</th>\n",
       "      <th>Glucose</th>\n",
       "      <th>BloodPressure</th>\n",
       "      <th>SkinThickness</th>\n",
       "      <th>Insulin</th>\n",
       "      <th>BMI</th>\n",
       "      <th>DPF</th>\n",
       "      <th>Age</th>\n",
       "      <th>Outcome</th>\n",
       "    </tr>\n",
       "  </thead>\n",
       "  <tbody>\n",
       "    <tr>\n",
       "      <th>0</th>\n",
       "      <td>6</td>\n",
       "      <td>148.0</td>\n",
       "      <td>72</td>\n",
       "      <td>35</td>\n",
       "      <td>0</td>\n",
       "      <td>33.6</td>\n",
       "      <td>0.627</td>\n",
       "      <td>50</td>\n",
       "      <td>1</td>\n",
       "    </tr>\n",
       "    <tr>\n",
       "      <th>1</th>\n",
       "      <td>1</td>\n",
       "      <td>85.0</td>\n",
       "      <td>66</td>\n",
       "      <td>29</td>\n",
       "      <td>0</td>\n",
       "      <td>26.6</td>\n",
       "      <td>0.351</td>\n",
       "      <td>31</td>\n",
       "      <td>0</td>\n",
       "    </tr>\n",
       "    <tr>\n",
       "      <th>2</th>\n",
       "      <td>8</td>\n",
       "      <td>183.0</td>\n",
       "      <td>64</td>\n",
       "      <td>0</td>\n",
       "      <td>0</td>\n",
       "      <td>23.3</td>\n",
       "      <td>0.672</td>\n",
       "      <td>32</td>\n",
       "      <td>1</td>\n",
       "    </tr>\n",
       "    <tr>\n",
       "      <th>3</th>\n",
       "      <td>1</td>\n",
       "      <td>89.0</td>\n",
       "      <td>66</td>\n",
       "      <td>23</td>\n",
       "      <td>94</td>\n",
       "      <td>28.1</td>\n",
       "      <td>0.167</td>\n",
       "      <td>21</td>\n",
       "      <td>0</td>\n",
       "    </tr>\n",
       "    <tr>\n",
       "      <th>4</th>\n",
       "      <td>0</td>\n",
       "      <td>137.0</td>\n",
       "      <td>40</td>\n",
       "      <td>35</td>\n",
       "      <td>168</td>\n",
       "      <td>43.1</td>\n",
       "      <td>2.288</td>\n",
       "      <td>33</td>\n",
       "      <td>1</td>\n",
       "    </tr>\n",
       "  </tbody>\n",
       "</table>\n",
       "</div>"
      ],
      "text/plain": [
       "   Pregnancies  Glucose  BloodPressure  SkinThickness  Insulin   BMI    DPF  \\\n",
       "0            6    148.0             72             35        0  33.6  0.627   \n",
       "1            1     85.0             66             29        0  26.6  0.351   \n",
       "2            8    183.0             64              0        0  23.3  0.672   \n",
       "3            1     89.0             66             23       94  28.1  0.167   \n",
       "4            0    137.0             40             35      168  43.1  2.288   \n",
       "\n",
       "   Age  Outcome  \n",
       "0   50        1  \n",
       "1   31        0  \n",
       "2   32        1  \n",
       "3   21        0  \n",
       "4   33        1  "
      ]
     },
     "execution_count": 745,
     "metadata": {},
     "output_type": "execute_result"
    }
   ],
   "source": [
    "df.BloodPressure = df.BloodPressure.replace(0,df.BloodPressure.median())\n",
    "df.head()"
   ]
  },
  {
   "cell_type": "code",
   "execution_count": 746,
   "metadata": {},
   "outputs": [],
   "source": [
    "df  = std_based('BloodPressure',df)"
   ]
  },
  {
   "cell_type": "code",
   "execution_count": 747,
   "metadata": {},
   "outputs": [
    {
     "data": {
      "text/plain": [
       "Text(0.5, 1.0, 'Five Point Summary')"
      ]
     },
     "execution_count": 747,
     "metadata": {},
     "output_type": "execute_result"
    },
    {
     "data": {
      "image/png": "[encoded data removed]",
      "text/plain": [
       "<Figure size 432x288 with 1 Axes>"
      ]
     },
     "metadata": {},
     "output_type": "display_data"
    }
   ],
   "source": [
    "sns.boxplot('BloodPressure',data=df,color='m').set_title('Five Point Summary')"
   ]
  },
  {
   "cell_type": "code",
   "execution_count": 748,
   "metadata": {},
   "outputs": [
    {
     "data": {
      "text/plain": [
       "count    756.000000\n",
       "mean      20.428571\n",
       "std       15.952377\n",
       "min        0.000000\n",
       "25%        0.000000\n",
       "50%       23.000000\n",
       "75%       32.000000\n",
       "max       99.000000\n",
       "Name: SkinThickness, dtype: float64"
      ]
     },
     "execution_count": 748,
     "metadata": {},
     "output_type": "execute_result"
    }
   ],
   "source": [
    "df.SkinThickness.describe()"
   ]
  },
  {
   "cell_type": "code",
   "execution_count": 749,
   "metadata": {},
   "outputs": [
    {
     "data": {
      "text/html": [
       "<div>\n",
       "<style scoped>\n",
       "    .dataframe tbody tr th:only-of-type {\n",
       "        vertical-align: middle;\n",
       "    }\n",
       "\n",
       "    .dataframe tbody tr th {\n",
       "        vertical-align: top;\n",
       "    }\n",
       "\n",
       "    .dataframe thead th {\n",
       "        text-align: right;\n",
       "    }\n",
       "</style>\n",
       "<table border=\"1\" class=\"dataframe\">\n",
       "  <thead>\n",
       "    <tr style=\"text-align: right;\">\n",
       "      <th></th>\n",
       "      <th>Pregnancies</th>\n",
       "      <th>Glucose</th>\n",
       "      <th>BloodPressure</th>\n",
       "      <th>SkinThickness</th>\n",
       "      <th>Insulin</th>\n",
       "      <th>BMI</th>\n",
       "      <th>DPF</th>\n",
       "      <th>Age</th>\n",
       "      <th>Outcome</th>\n",
       "    </tr>\n",
       "  </thead>\n",
       "  <tbody>\n",
       "    <tr>\n",
       "      <th>0</th>\n",
       "      <td>6</td>\n",
       "      <td>148.0</td>\n",
       "      <td>72</td>\n",
       "      <td>35.000000</td>\n",
       "      <td>0</td>\n",
       "      <td>33.6</td>\n",
       "      <td>0.627</td>\n",
       "      <td>50</td>\n",
       "      <td>1</td>\n",
       "    </tr>\n",
       "    <tr>\n",
       "      <th>1</th>\n",
       "      <td>1</td>\n",
       "      <td>85.0</td>\n",
       "      <td>66</td>\n",
       "      <td>29.000000</td>\n",
       "      <td>0</td>\n",
       "      <td>26.6</td>\n",
       "      <td>0.351</td>\n",
       "      <td>31</td>\n",
       "      <td>0</td>\n",
       "    </tr>\n",
       "    <tr>\n",
       "      <th>2</th>\n",
       "      <td>8</td>\n",
       "      <td>183.0</td>\n",
       "      <td>64</td>\n",
       "      <td>20.428571</td>\n",
       "      <td>0</td>\n",
       "      <td>23.3</td>\n",
       "      <td>0.672</td>\n",
       "      <td>32</td>\n",
       "      <td>1</td>\n",
       "    </tr>\n",
       "    <tr>\n",
       "      <th>3</th>\n",
       "      <td>1</td>\n",
       "      <td>89.0</td>\n",
       "      <td>66</td>\n",
       "      <td>23.000000</td>\n",
       "      <td>94</td>\n",
       "      <td>28.1</td>\n",
       "      <td>0.167</td>\n",
       "      <td>21</td>\n",
       "      <td>0</td>\n",
       "    </tr>\n",
       "    <tr>\n",
       "      <th>4</th>\n",
       "      <td>0</td>\n",
       "      <td>137.0</td>\n",
       "      <td>40</td>\n",
       "      <td>35.000000</td>\n",
       "      <td>168</td>\n",
       "      <td>43.1</td>\n",
       "      <td>2.288</td>\n",
       "      <td>33</td>\n",
       "      <td>1</td>\n",
       "    </tr>\n",
       "  </tbody>\n",
       "</table>\n",
       "</div>"
      ],
      "text/plain": [
       "   Pregnancies  Glucose  BloodPressure  SkinThickness  Insulin   BMI    DPF  \\\n",
       "0            6    148.0             72      35.000000        0  33.6  0.627   \n",
       "1            1     85.0             66      29.000000        0  26.6  0.351   \n",
       "2            8    183.0             64      20.428571        0  23.3  0.672   \n",
       "3            1     89.0             66      23.000000       94  28.1  0.167   \n",
       "4            0    137.0             40      35.000000      168  43.1  2.288   \n",
       "\n",
       "   Age  Outcome  \n",
       "0   50        1  \n",
       "1   31        0  \n",
       "2   32        1  \n",
       "3   21        0  \n",
       "4   33        1  "
      ]
     },
     "execution_count": 749,
     "metadata": {},
     "output_type": "execute_result"
    }
   ],
   "source": [
    "df.SkinThickness = df.SkinThickness.replace(0,df.SkinThickness.mean())\n",
    "df.head()"
   ]
  },
  {
   "cell_type": "code",
   "execution_count": 750,
   "metadata": {},
   "outputs": [],
   "source": [
    "df = std_based(\"SkinThickness\",df)"
   ]
  },
  {
   "cell_type": "code",
   "execution_count": 751,
   "metadata": {},
   "outputs": [
    {
     "data": {
      "text/plain": [
       "Text(0.5, 1.0, 'Five Point Summary')"
      ]
     },
     "execution_count": 751,
     "metadata": {},
     "output_type": "execute_result"
    },
    {
     "data": {
      "image/png": "[encoded data removed]",
      "text/plain": [
       "<Figure size 432x288 with 1 Axes>"
      ]
     },
     "metadata": {},
     "output_type": "display_data"
    }
   ],
   "source": [
    "sns.boxplot('SkinThickness',data=df,color='c').set_title('Five Point Summary')"
   ]
  },
  {
   "cell_type": "code",
   "execution_count": 752,
   "metadata": {},
   "outputs": [
    {
     "data": {
      "text/plain": [
       "count    752.000000\n",
       "mean      79.889628\n",
       "std      115.995453\n",
       "min        0.000000\n",
       "25%        0.000000\n",
       "50%       26.000000\n",
       "75%      128.250000\n",
       "max      846.000000\n",
       "Name: Insulin, dtype: float64"
      ]
     },
     "execution_count": 752,
     "metadata": {},
     "output_type": "execute_result"
    }
   ],
   "source": [
    "df.Insulin.describe()"
   ]
  },
  {
   "cell_type": "code",
   "execution_count": 753,
   "metadata": {},
   "outputs": [
    {
     "data": {
      "text/plain": [
       "Text(0.5, 1.0, 'Five Point Summary')"
      ]
     },
     "execution_count": 753,
     "metadata": {},
     "output_type": "execute_result"
    },
    {
     "data": {
      "image/png": "[encoded data removed]",
      "text/plain": [
       "<Figure size 432x288 with 1 Axes>"
      ]
     },
     "metadata": {},
     "output_type": "display_data"
    }
   ],
   "source": [
    "sns.boxplot('Insulin',data=df,color='c').set_title('Five Point Summary')"
   ]
  },
  {
   "cell_type": "code",
   "execution_count": 754,
   "metadata": {},
   "outputs": [
    {
     "data": {
      "text/html": [
       "<div>\n",
       "<style scoped>\n",
       "    .dataframe tbody tr th:only-of-type {\n",
       "        vertical-align: middle;\n",
       "    }\n",
       "\n",
       "    .dataframe tbody tr th {\n",
       "        vertical-align: top;\n",
       "    }\n",
       "\n",
       "    .dataframe thead th {\n",
       "        text-align: right;\n",
       "    }\n",
       "</style>\n",
       "<table border=\"1\" class=\"dataframe\">\n",
       "  <thead>\n",
       "    <tr style=\"text-align: right;\">\n",
       "      <th></th>\n",
       "      <th>Pregnancies</th>\n",
       "      <th>Glucose</th>\n",
       "      <th>BloodPressure</th>\n",
       "      <th>SkinThickness</th>\n",
       "      <th>Insulin</th>\n",
       "      <th>BMI</th>\n",
       "      <th>DPF</th>\n",
       "      <th>Age</th>\n",
       "      <th>Outcome</th>\n",
       "    </tr>\n",
       "  </thead>\n",
       "  <tbody>\n",
       "    <tr>\n",
       "      <th>0</th>\n",
       "      <td>6</td>\n",
       "      <td>148.0</td>\n",
       "      <td>72</td>\n",
       "      <td>35.000000</td>\n",
       "      <td>26</td>\n",
       "      <td>33.6</td>\n",
       "      <td>0.627</td>\n",
       "      <td>50</td>\n",
       "      <td>1</td>\n",
       "    </tr>\n",
       "    <tr>\n",
       "      <th>1</th>\n",
       "      <td>1</td>\n",
       "      <td>85.0</td>\n",
       "      <td>66</td>\n",
       "      <td>29.000000</td>\n",
       "      <td>26</td>\n",
       "      <td>26.6</td>\n",
       "      <td>0.351</td>\n",
       "      <td>31</td>\n",
       "      <td>0</td>\n",
       "    </tr>\n",
       "    <tr>\n",
       "      <th>2</th>\n",
       "      <td>8</td>\n",
       "      <td>183.0</td>\n",
       "      <td>64</td>\n",
       "      <td>20.428571</td>\n",
       "      <td>26</td>\n",
       "      <td>23.3</td>\n",
       "      <td>0.672</td>\n",
       "      <td>32</td>\n",
       "      <td>1</td>\n",
       "    </tr>\n",
       "    <tr>\n",
       "      <th>3</th>\n",
       "      <td>1</td>\n",
       "      <td>89.0</td>\n",
       "      <td>66</td>\n",
       "      <td>23.000000</td>\n",
       "      <td>94</td>\n",
       "      <td>28.1</td>\n",
       "      <td>0.167</td>\n",
       "      <td>21</td>\n",
       "      <td>0</td>\n",
       "    </tr>\n",
       "    <tr>\n",
       "      <th>4</th>\n",
       "      <td>0</td>\n",
       "      <td>137.0</td>\n",
       "      <td>40</td>\n",
       "      <td>35.000000</td>\n",
       "      <td>168</td>\n",
       "      <td>43.1</td>\n",
       "      <td>2.288</td>\n",
       "      <td>33</td>\n",
       "      <td>1</td>\n",
       "    </tr>\n",
       "  </tbody>\n",
       "</table>\n",
       "</div>"
      ],
      "text/plain": [
       "   Pregnancies  Glucose  BloodPressure  SkinThickness  Insulin   BMI    DPF  \\\n",
       "0            6    148.0             72      35.000000       26  33.6  0.627   \n",
       "1            1     85.0             66      29.000000       26  26.6  0.351   \n",
       "2            8    183.0             64      20.428571       26  23.3  0.672   \n",
       "3            1     89.0             66      23.000000       94  28.1  0.167   \n",
       "4            0    137.0             40      35.000000      168  43.1  2.288   \n",
       "\n",
       "   Age  Outcome  \n",
       "0   50        1  \n",
       "1   31        0  \n",
       "2   32        1  \n",
       "3   21        0  \n",
       "4   33        1  "
      ]
     },
     "execution_count": 754,
     "metadata": {},
     "output_type": "execute_result"
    }
   ],
   "source": [
    "df.Insulin = df.Insulin.replace(0,df.Insulin.median())\n",
    "df.head()"
   ]
  },
  {
   "cell_type": "code",
   "execution_count": 755,
   "metadata": {},
   "outputs": [],
   "source": [
    "df = std_based('Insulin',df)"
   ]
  },
  {
   "cell_type": "code",
   "execution_count": 756,
   "metadata": {},
   "outputs": [
    {
     "data": {
      "text/plain": [
       "Text(0.5, 1.0, 'Five Point Summary')"
      ]
     },
     "execution_count": 756,
     "metadata": {},
     "output_type": "execute_result"
    },
    {
     "data": {
      "image/png": "[encoded data removed]",
      "text/plain": [
       "<Figure size 432x288 with 1 Axes>"
      ]
     },
     "metadata": {},
     "output_type": "display_data"
    }
   ],
   "source": [
    "sns.boxplot('Insulin',data=df,color='c').set_title('Five Point Summary')"
   ]
  },
  {
   "cell_type": "code",
   "execution_count": 757,
   "metadata": {},
   "outputs": [
    {
     "data": {
      "text/plain": [
       "count    734.000000\n",
       "mean      31.649728\n",
       "std        7.630830\n",
       "min        0.000000\n",
       "25%       27.025000\n",
       "50%       32.000000\n",
       "75%       36.100000\n",
       "max       57.300000\n",
       "Name: BMI, dtype: float64"
      ]
     },
     "execution_count": 757,
     "metadata": {},
     "output_type": "execute_result"
    }
   ],
   "source": [
    "df.BMI.describe()"
   ]
  },
  {
   "cell_type": "code",
   "execution_count": 758,
   "metadata": {},
   "outputs": [
    {
     "data": {
      "text/plain": [
       "Text(0.5, 1.0, 'Five Point Summary')"
      ]
     },
     "execution_count": 758,
     "metadata": {},
     "output_type": "execute_result"
    },
    {
     "data": {
      "image/png": "[encoded data removed]",
      "text/plain": [
       "<Figure size 432x288 with 1 Axes>"
      ]
     },
     "metadata": {},
     "output_type": "display_data"
    }
   ],
   "source": [
    "sns.boxplot('BMI',data=df,color='r').set_title('Five Point Summary')"
   ]
  },
  {
   "cell_type": "code",
   "execution_count": 759,
   "metadata": {
    "scrolled": false
   },
   "outputs": [
    {
     "data": {
      "text/html": [
       "<div>\n",
       "<style scoped>\n",
       "    .dataframe tbody tr th:only-of-type {\n",
       "        vertical-align: middle;\n",
       "    }\n",
       "\n",
       "    .dataframe tbody tr th {\n",
       "        vertical-align: top;\n",
       "    }\n",
       "\n",
       "    .dataframe thead th {\n",
       "        text-align: right;\n",
       "    }\n",
       "</style>\n",
       "<table border=\"1\" class=\"dataframe\">\n",
       "  <thead>\n",
       "    <tr style=\"text-align: right;\">\n",
       "      <th></th>\n",
       "      <th>Pregnancies</th>\n",
       "      <th>Glucose</th>\n",
       "      <th>BloodPressure</th>\n",
       "      <th>SkinThickness</th>\n",
       "      <th>Insulin</th>\n",
       "      <th>BMI</th>\n",
       "      <th>DPF</th>\n",
       "      <th>Age</th>\n",
       "      <th>Outcome</th>\n",
       "    </tr>\n",
       "  </thead>\n",
       "  <tbody>\n",
       "    <tr>\n",
       "      <th>0</th>\n",
       "      <td>6</td>\n",
       "      <td>148.0</td>\n",
       "      <td>72</td>\n",
       "      <td>35.000000</td>\n",
       "      <td>26</td>\n",
       "      <td>33.6</td>\n",
       "      <td>0.627</td>\n",
       "      <td>50</td>\n",
       "      <td>1</td>\n",
       "    </tr>\n",
       "    <tr>\n",
       "      <th>1</th>\n",
       "      <td>1</td>\n",
       "      <td>85.0</td>\n",
       "      <td>66</td>\n",
       "      <td>29.000000</td>\n",
       "      <td>26</td>\n",
       "      <td>26.6</td>\n",
       "      <td>0.351</td>\n",
       "      <td>31</td>\n",
       "      <td>0</td>\n",
       "    </tr>\n",
       "    <tr>\n",
       "      <th>2</th>\n",
       "      <td>8</td>\n",
       "      <td>183.0</td>\n",
       "      <td>64</td>\n",
       "      <td>20.428571</td>\n",
       "      <td>26</td>\n",
       "      <td>23.3</td>\n",
       "      <td>0.672</td>\n",
       "      <td>32</td>\n",
       "      <td>1</td>\n",
       "    </tr>\n",
       "    <tr>\n",
       "      <th>3</th>\n",
       "      <td>1</td>\n",
       "      <td>89.0</td>\n",
       "      <td>66</td>\n",
       "      <td>23.000000</td>\n",
       "      <td>94</td>\n",
       "      <td>28.1</td>\n",
       "      <td>0.167</td>\n",
       "      <td>21</td>\n",
       "      <td>0</td>\n",
       "    </tr>\n",
       "    <tr>\n",
       "      <th>4</th>\n",
       "      <td>0</td>\n",
       "      <td>137.0</td>\n",
       "      <td>40</td>\n",
       "      <td>35.000000</td>\n",
       "      <td>168</td>\n",
       "      <td>43.1</td>\n",
       "      <td>2.288</td>\n",
       "      <td>33</td>\n",
       "      <td>1</td>\n",
       "    </tr>\n",
       "  </tbody>\n",
       "</table>\n",
       "</div>"
      ],
      "text/plain": [
       "   Pregnancies  Glucose  BloodPressure  SkinThickness  Insulin   BMI    DPF  \\\n",
       "0            6    148.0             72      35.000000       26  33.6  0.627   \n",
       "1            1     85.0             66      29.000000       26  26.6  0.351   \n",
       "2            8    183.0             64      20.428571       26  23.3  0.672   \n",
       "3            1     89.0             66      23.000000       94  28.1  0.167   \n",
       "4            0    137.0             40      35.000000      168  43.1  2.288   \n",
       "\n",
       "   Age  Outcome  \n",
       "0   50        1  \n",
       "1   31        0  \n",
       "2   32        1  \n",
       "3   21        0  \n",
       "4   33        1  "
      ]
     },
     "execution_count": 759,
     "metadata": {},
     "output_type": "execute_result"
    }
   ],
   "source": [
    "df.BMI = df.BMI.replace(0,df.BMI.mean())\n",
    "df.head()"
   ]
  },
  {
   "cell_type": "code",
   "execution_count": 760,
   "metadata": {},
   "outputs": [
    {
     "data": {
      "text/plain": [
       "Text(0.5, 1.0, 'Five Point Summary')"
      ]
     },
     "execution_count": 760,
     "metadata": {},
     "output_type": "execute_result"
    },
    {
     "data": {
      "image/png": "[encoded data removed]",
      "text/plain": [
       "<Figure size 432x288 with 1 Axes>"
      ]
     },
     "metadata": {},
     "output_type": "display_data"
    }
   ],
   "source": [
    "sns.boxplot('BMI',data=df,color='r').set_title('Five Point Summary')"
   ]
  },
  {
   "cell_type": "code",
   "execution_count": 761,
   "metadata": {},
   "outputs": [
    {
     "data": {
      "text/plain": [
       "count    734.000000\n",
       "mean       0.464274\n",
       "std        0.313676\n",
       "min        0.078000\n",
       "25%        0.244000\n",
       "50%        0.367000\n",
       "75%        0.612750\n",
       "max        2.288000\n",
       "Name: DPF, dtype: float64"
      ]
     },
     "execution_count": 761,
     "metadata": {},
     "output_type": "execute_result"
    }
   ],
   "source": [
    "df.DPF.describe()"
   ]
  },
  {
   "cell_type": "code",
   "execution_count": 762,
   "metadata": {},
   "outputs": [
    {
     "data": {
      "text/plain": [
       "Text(0.5, 1.0, 'Five Point Summary')"
      ]
     },
     "execution_count": 762,
     "metadata": {},
     "output_type": "execute_result"
    },
    {
     "data": {
      "image/png": "[encoded data removed]",
      "text/plain": [
       "<Figure size 432x288 with 1 Axes>"
      ]
     },
     "metadata": {},
     "output_type": "display_data"
    }
   ],
   "source": [
    "df = std_based('DPF',df)\n",
    "\n",
    "sns.boxplot('DPF',data=df,color='y').set_title('Five Point Summary')"
   ]
  },
  {
   "cell_type": "code",
   "execution_count": 763,
   "metadata": {},
   "outputs": [
    {
     "data": {
      "text/plain": [
       "count    724.000000\n",
       "mean      33.111878\n",
       "std       11.711371\n",
       "min       21.000000\n",
       "25%       24.000000\n",
       "50%       29.000000\n",
       "75%       40.000000\n",
       "max       81.000000\n",
       "Name: Age, dtype: float64"
      ]
     },
     "execution_count": 763,
     "metadata": {},
     "output_type": "execute_result"
    }
   ],
   "source": [
    "df.Age.describe()"
   ]
  },
  {
   "cell_type": "code",
   "execution_count": 764,
   "metadata": {},
   "outputs": [
    {
     "data": {
      "text/plain": [
       "Text(0.5, 1.0, 'Five Point Summary')"
      ]
     },
     "execution_count": 764,
     "metadata": {},
     "output_type": "execute_result"
    },
    {
     "data": {
      "image/png": "[encoded data removed]",
      "text/plain": [
       "<Figure size 432x288 with 1 Axes>"
      ]
     },
     "metadata": {},
     "output_type": "display_data"
    }
   ],
   "source": [
    "\n",
    "sns.boxplot('Age',data=df,color='c').set_title('Five Point Summary')"
   ]
  },
  {
   "cell_type": "code",
   "execution_count": 765,
   "metadata": {},
   "outputs": [
    {
     "data": {
      "text/html": [
       "<div>\n",
       "<style scoped>\n",
       "    .dataframe tbody tr th:only-of-type {\n",
       "        vertical-align: middle;\n",
       "    }\n",
       "\n",
       "    .dataframe tbody tr th {\n",
       "        vertical-align: top;\n",
       "    }\n",
       "\n",
       "    .dataframe thead th {\n",
       "        text-align: right;\n",
       "    }\n",
       "</style>\n",
       "<table border=\"1\" class=\"dataframe\">\n",
       "  <thead>\n",
       "    <tr style=\"text-align: right;\">\n",
       "      <th></th>\n",
       "      <th>Pregnancies</th>\n",
       "      <th>Glucose</th>\n",
       "      <th>BloodPressure</th>\n",
       "      <th>SkinThickness</th>\n",
       "      <th>Insulin</th>\n",
       "      <th>BMI</th>\n",
       "      <th>DPF</th>\n",
       "      <th>Age</th>\n",
       "      <th>Outcome</th>\n",
       "    </tr>\n",
       "  </thead>\n",
       "  <tbody>\n",
       "    <tr>\n",
       "      <th>0</th>\n",
       "      <td>6</td>\n",
       "      <td>148.0</td>\n",
       "      <td>72</td>\n",
       "      <td>35.000000</td>\n",
       "      <td>26</td>\n",
       "      <td>33.6</td>\n",
       "      <td>0.627</td>\n",
       "      <td>50</td>\n",
       "      <td>1</td>\n",
       "    </tr>\n",
       "    <tr>\n",
       "      <th>1</th>\n",
       "      <td>1</td>\n",
       "      <td>85.0</td>\n",
       "      <td>66</td>\n",
       "      <td>29.000000</td>\n",
       "      <td>26</td>\n",
       "      <td>26.6</td>\n",
       "      <td>0.351</td>\n",
       "      <td>31</td>\n",
       "      <td>0</td>\n",
       "    </tr>\n",
       "    <tr>\n",
       "      <th>2</th>\n",
       "      <td>8</td>\n",
       "      <td>183.0</td>\n",
       "      <td>64</td>\n",
       "      <td>20.428571</td>\n",
       "      <td>26</td>\n",
       "      <td>23.3</td>\n",
       "      <td>0.672</td>\n",
       "      <td>32</td>\n",
       "      <td>1</td>\n",
       "    </tr>\n",
       "    <tr>\n",
       "      <th>3</th>\n",
       "      <td>1</td>\n",
       "      <td>89.0</td>\n",
       "      <td>66</td>\n",
       "      <td>23.000000</td>\n",
       "      <td>94</td>\n",
       "      <td>28.1</td>\n",
       "      <td>0.167</td>\n",
       "      <td>21</td>\n",
       "      <td>0</td>\n",
       "    </tr>\n",
       "    <tr>\n",
       "      <th>5</th>\n",
       "      <td>5</td>\n",
       "      <td>116.0</td>\n",
       "      <td>74</td>\n",
       "      <td>20.428571</td>\n",
       "      <td>26</td>\n",
       "      <td>25.6</td>\n",
       "      <td>0.201</td>\n",
       "      <td>30</td>\n",
       "      <td>0</td>\n",
       "    </tr>\n",
       "  </tbody>\n",
       "</table>\n",
       "</div>"
      ],
      "text/plain": [
       "   Pregnancies  Glucose  BloodPressure  SkinThickness  Insulin   BMI    DPF  \\\n",
       "0            6    148.0             72      35.000000       26  33.6  0.627   \n",
       "1            1     85.0             66      29.000000       26  26.6  0.351   \n",
       "2            8    183.0             64      20.428571       26  23.3  0.672   \n",
       "3            1     89.0             66      23.000000       94  28.1  0.167   \n",
       "5            5    116.0             74      20.428571       26  25.6  0.201   \n",
       "\n",
       "   Age  Outcome  \n",
       "0   50        1  \n",
       "1   31        0  \n",
       "2   32        1  \n",
       "3   21        0  \n",
       "5   30        0  "
      ]
     },
     "execution_count": 765,
     "metadata": {},
     "output_type": "execute_result"
    }
   ],
   "source": [
    "df.head()"
   ]
  },
  {
   "cell_type": "code",
   "execution_count": 766,
   "metadata": {},
   "outputs": [
    {
     "data": {
      "text/plain": [
       "(724, 9)"
      ]
     },
     "execution_count": 766,
     "metadata": {},
     "output_type": "execute_result"
    }
   ],
   "source": [
    "df.shape"
   ]
  },
  {
   "cell_type": "code",
   "execution_count": 767,
   "metadata": {},
   "outputs": [
    {
     "data": {
      "text/plain": [
       "Pregnancies        10.676041\n",
       "Glucose           868.450814\n",
       "BloodPressure     128.189700\n",
       "SkinThickness      80.621245\n",
       "Insulin          6360.775382\n",
       "BMI                42.783512\n",
       "DPF                 0.077310\n",
       "Age               137.156207\n",
       "Outcome             0.223293\n",
       "dtype: float64"
      ]
     },
     "execution_count": 767,
     "metadata": {},
     "output_type": "execute_result"
    }
   ],
   "source": [
    "df.var()"
   ]
  },
  {
   "cell_type": "code",
   "execution_count": 768,
   "metadata": {},
   "outputs": [],
   "source": [
    "df.drop('DPF',axis = 1,inplace=True) ###DPF is removed ###"
   ]
  },
  {
   "cell_type": "code",
   "execution_count": 769,
   "metadata": {},
   "outputs": [
    {
     "data": {
      "text/plain": [
       "0    481\n",
       "1    243\n",
       "Name: Outcome, dtype: int64"
      ]
     },
     "execution_count": 769,
     "metadata": {},
     "output_type": "execute_result"
    }
   ],
   "source": [
    "df.Outcome.value_counts()"
   ]
  },
  {
   "cell_type": "code",
   "execution_count": 770,
   "metadata": {},
   "outputs": [],
   "source": [
    "def sens(TP,FN):\n",
    "    a=TP/(TP+FN)\n",
    "    return a\n",
    "def spec(TN,FP):\n",
    "    b=TN/(TN+FP)\n",
    "    return b"
   ]
  },
  {
   "cell_type": "code",
   "execution_count": 771,
   "metadata": {},
   "outputs": [
    {
     "name": "stdout",
     "output_type": "stream",
     "text": [
      "(579, 7)\n",
      "(145, 7)\n",
      "(579,)\n",
      "(145,)\n"
     ]
    }
   ],
   "source": [
    "x=df.iloc[:,:-1].values           #iloc() used to select particular cell of data set\n",
    "y=df.iloc[:,-1].values\n",
    "\n",
    "from sklearn.model_selection import train_test_split\n",
    "x_train,x_test,y_train,y_test = train_test_split(x,y,test_size = 0.20, random_state = 0)\n",
    "\n",
    "print(x_train.shape)\n",
    "print(x_test.shape)\n",
    "print(y_train.shape)\n",
    "print(y_test.shape)\n"
   ]
  },
  {
   "cell_type": "markdown",
   "metadata": {},
   "source": [
    "#########################################\n",
    "\n",
    "Standard Scaler()\n",
    "\n",
    "The standard score of a sample x is calculated as:\n",
    "\n",
    "z = (x - u) / s\n",
    "\n",
    "where u is the mean of the training samples or zero if with_mean=False, and s is the standard deviation of the training samples or one if with_std=False.\n",
    "#########################################"
   ]
  },
  {
   "cell_type": "code",
   "execution_count": 772,
   "metadata": {},
   "outputs": [],
   "source": [
    "from sklearn.preprocessing import StandardScaler \n",
    "ss = StandardScaler()\n",
    "\n",
    "x_train_std = ss.fit_transform(x_train) # fitting and transforming to normal\n",
    "x_test_std = ss.transform(x_test)"
   ]
  },
  {
   "cell_type": "code",
   "execution_count": 773,
   "metadata": {},
   "outputs": [],
   "source": [
    "seed_value=123"
   ]
  },
  {
   "cell_type": "code",
   "execution_count": 774,
   "metadata": {},
   "outputs": [],
   "source": [
    "# auc = Area under curve\n",
    "# roc = receiver operating characteristic\n",
    "# threshold=  the assignment of pixel values in relation to the threshold value provided.\n",
    "#             In thresholding, each pixel value is compared with the threshold value. \n",
    "#             If the pixel value is smaller than the threshold, it is set to 0, otherwise, it is set to a maximum value (generally 255)\n",
    "# tp= true positive rate\n",
    "# fp= false positive rate"
   ]
  },
  {
   "cell_type": "code",
   "execution_count": null,
   "metadata": {},
   "outputs": [],
   "source": []
  },
  {
   "cell_type": "code",
   "execution_count": 775,
   "metadata": {},
   "outputs": [],
   "source": [
    "############Naive Bayes###########\n",
    "# Gaussian: It is used in classification and it assumes that features follow a normal distribution."
   ]
  },
  {
   "cell_type": "code",
   "execution_count": 776,
   "metadata": {},
   "outputs": [
    {
     "name": "stdout",
     "output_type": "stream",
     "text": [
      "Accuracy for Gaussian Naive Bayes is 0.7931034482758621\n"
     ]
    }
   ],
   "source": [
    "from sklearn.naive_bayes import GaussianNB\n",
    "model_nb=GaussianNB()\n",
    "model_nb.fit(x_train_std,y_train)\n",
    "y_pred_nb=model_nb.predict(x_test_std)                     #predict the labels of the data values on the basis of the trained model\n",
    "from sklearn import metrics                                # metrics lib =measure classification performance\n",
    "accugaussNB= metrics.accuracy_score (y_test,y_pred_nb)     #computes accuracy\n",
    "print(\"Accuracy for Gaussian Naive Bayes is\", accugaussNB)"
   ]
  },
  {
   "cell_type": "code",
   "execution_count": 777,
   "metadata": {},
   "outputs": [
    {
     "name": "stdout",
     "output_type": "stream",
     "text": [
      "              precision    recall  f1-score   support\n",
      "\n",
      "           0       0.84      0.87      0.86       103\n",
      "           1       0.66      0.60      0.62        42\n",
      "\n",
      "    accuracy                           0.79       145\n",
      "   macro avg       0.75      0.73      0.74       145\n",
      "weighted avg       0.79      0.79      0.79       145\n",
      "\n",
      "[[90 13]\n",
      " [17 25]]\n"
     ]
    }
   ],
   "source": [
    "print(metrics.classification_report(y_test,y_pred_nb))\n",
    "print(metrics.confusion_matrix(y_test,y_pred_nb))"
   ]
  },
  {
   "cell_type": "code",
   "execution_count": 778,
   "metadata": {},
   "outputs": [
    {
     "name": "stdout",
     "output_type": "stream",
     "text": [
      "Sensitivity is  0.8737864077669902\n",
      "Specificity is  0.5952380952380952\n"
     ]
    }
   ],
   "source": [
    "TP,TN,FP,FN=90,25,17,13  \n",
    "anb=sens(TP,FN)\n",
    "bnb=spec(TN,FP)\n",
    "print(\"Sensitivity is \",anb)\n",
    "print(\"Specificity is \",bnb)"
   ]
  },
  {
   "cell_type": "code",
   "execution_count": 779,
   "metadata": {},
   "outputs": [
    {
     "name": "stdout",
     "output_type": "stream",
     "text": [
      "AUC for Gaussian Naive Bayes :  0.8606102635228849\n"
     ]
    }
   ],
   "source": [
    "from sklearn.metrics import auc\n",
    "from sklearn.metrics import roc_curve\n",
    "from sklearn.metrics import roc_auc_score\n",
    "probas_pred_nb=model_nb.predict_proba(x_test_std)\n",
    "fpnb, tpnb, thresholdsnb = roc_curve(y_test,probas_pred_nb[:,1],pos_label=1)\n",
    "roc_auc_nb=auc(fpnb, tpnb)\n",
    "print(\"AUC for Gaussian Naive Bayes : \",roc_auc_nb)"
   ]
  },
  {
   "cell_type": "code",
   "execution_count": 780,
   "metadata": {},
   "outputs": [],
   "source": [
    "def plot_roc_curve(fpnb,tpnb):\n",
    "    plt.plot(fpnb,tpnb,color='orange',label='ROC')\n",
    "    plt.plot([0,1],[0,1],color='black',linestyle='--')\n",
    "    plt.xlabel('False Positive Rate')\n",
    "    plt.ylabel('True Positive Rate')\n",
    "    plt.title('Receiver Operating Characteristic (ROC) Curve ')\n",
    "    plt.legend()\n",
    "    plt.show"
   ]
  },
  {
   "cell_type": "code",
   "execution_count": 781,
   "metadata": {},
   "outputs": [
    {
     "data": {
      "image/png": "[encoded data removed]",
      "text/plain": [
       "<Figure size 432x288 with 1 Axes>"
      ]
     },
     "metadata": {},
     "output_type": "display_data"
    }
   ],
   "source": [
    "plot_roc_curve(fpnb,tpnb)"
   ]
  },
  {
   "cell_type": "code",
   "execution_count": null,
   "metadata": {},
   "outputs": [],
   "source": []
  },
  {
   "cell_type": "code",
   "execution_count": 782,
   "metadata": {},
   "outputs": [],
   "source": [
    "#########KNN Classifier############"
   ]
  },
  {
   "cell_type": "code",
   "execution_count": 783,
   "metadata": {},
   "outputs": [
    {
     "data": {
      "text/plain": [
       "GridSearchCV(cv=10, estimator=KNeighborsClassifier(),\n",
       "             param_grid={'n_neighbors': [5, 10, 15, 25, 30, 50]},\n",
       "             scoring='accuracy')"
      ]
     },
     "execution_count": 783,
     "metadata": {},
     "output_type": "execute_result"
    }
   ],
   "source": [
    "from sklearn.neighbors import KNeighborsClassifier\n",
    "from sklearn import metrics                                              #how the performance of machine learning algorithms is measured \n",
    "from sklearn.model_selection import GridSearchCV, RandomizedSearchCV     # grid= loop through predefined hyperparameters\n",
    "knn=KNeighborsClassifier()\n",
    "param_grid = {'n_neighbors':[5,10,15,25,30,50]}\n",
    "grid_knn = GridSearchCV(knn,param_grid,scoring='accuracy',cv = 10,refit = True)\n",
    "grid_knn.fit(x_train_std,y_train)"
   ]
  },
  {
   "cell_type": "code",
   "execution_count": 784,
   "metadata": {},
   "outputs": [],
   "source": [
    "# minkowski distance formula\n",
    "# deprecated= if code is faulty it replaces with new code for diff value of k\n",
    "# paramgrid=checking for different values of k\n",
    "# pre_dispatch = task performed in queue\n",
    "# verbose= produce detailed output \n",
    "# cv= cross validation\n",
    "# p=2 == we are using euclidean distance."
   ]
  },
  {
   "cell_type": "code",
   "execution_count": 785,
   "metadata": {},
   "outputs": [
    {
     "name": "stdout",
     "output_type": "stream",
     "text": [
      "Tuned Parameters==> {'n_neighbors': 30}\n"
     ]
    }
   ],
   "source": [
    "print(\"Tuned Parameters==>\",grid_knn.best_params_)"
   ]
  },
  {
   "cell_type": "code",
   "execution_count": 786,
   "metadata": {},
   "outputs": [
    {
     "name": "stdout",
     "output_type": "stream",
     "text": [
      "Accuracy for KNN Classifier is 0.8275862068965517\n"
     ]
    }
   ],
   "source": [
    "knn = KNeighborsClassifier(n_neighbors=30)\n",
    "knn.fit(x_train_std,y_train)\n",
    "y_pred_knn=knn.predict(x_test_std)\n",
    "from sklearn import metrics\n",
    "accuKNN=metrics.accuracy_score(y_test,y_pred_knn)\n",
    "print(\"Accuracy for KNN Classifier is\",accuKNN)"
   ]
  },
  {
   "cell_type": "code",
   "execution_count": 787,
   "metadata": {},
   "outputs": [
    {
     "name": "stdout",
     "output_type": "stream",
     "text": [
      "              precision    recall  f1-score   support\n",
      "\n",
      "           0       0.83      0.95      0.89       103\n",
      "           1       0.81      0.52      0.64        42\n",
      "\n",
      "    accuracy                           0.83       145\n",
      "   macro avg       0.82      0.74      0.76       145\n",
      "weighted avg       0.83      0.83      0.81       145\n",
      "\n",
      "[[98  5]\n",
      " [20 22]]\n"
     ]
    }
   ],
   "source": [
    "print(metrics.classification_report(y_test,y_pred_knn))\n",
    "print(metrics.confusion_matrix(y_test,y_pred_knn))"
   ]
  },
  {
   "cell_type": "code",
   "execution_count": 788,
   "metadata": {},
   "outputs": [
    {
     "name": "stdout",
     "output_type": "stream",
     "text": [
      "Sensitivity is  0.9514563106796117\n",
      "Specificity is  0.5238095238095238\n"
     ]
    }
   ],
   "source": [
    "TP,TN,FP,FN=98,22,20,5\n",
    "aknn=sens(TP,FN)\n",
    "bknn=spec(TN,FP)\n",
    "print(\"Sensitivity is \",aknn)\n",
    "print(\"Specificity is \",bknn)"
   ]
  },
  {
   "cell_type": "code",
   "execution_count": 789,
   "metadata": {},
   "outputs": [
    {
     "name": "stdout",
     "output_type": "stream",
     "text": [
      "AUC for K Nearest Neighbors :  0.8829172445677301\n"
     ]
    }
   ],
   "source": [
    "probas_pred_knn=knn.predict_proba(x_test_std)\n",
    "fpknn, tpknn, thresholdsknn = roc_curve(y_test,probas_pred_knn[:,1],pos_label=1)\n",
    "roc_auc_knn=auc(fpknn, tpknn)\n",
    "print(\"AUC for K Nearest Neighbors : \",roc_auc_knn)"
   ]
  },
  {
   "cell_type": "code",
   "execution_count": 790,
   "metadata": {},
   "outputs": [],
   "source": [
    "def plot_roc_curve(fpknn,tpknn):\n",
    "    plt.plot(fpknn,tpknn,color='green',label='ROC')\n",
    "    plt.plot([0,1],[0,1],color='black',linestyle='--')\n",
    "    plt.xlabel('False Positive Rate')\n",
    "    plt.ylabel('True Positive Rate')\n",
    "    plt.title('Receiver Operating Characteristic (ROC) Curve ')\n",
    "    plt.legend()\n",
    "    plt.show"
   ]
  },
  {
   "cell_type": "code",
   "execution_count": 791,
   "metadata": {},
   "outputs": [
    {
     "data": {
      "image/png": "[encoded data removed]",
      "text/plain": [
       "<Figure size 432x288 with 1 Axes>"
      ]
     },
     "metadata": {},
     "output_type": "display_data"
    }
   ],
   "source": [
    "plot_roc_curve(fpknn,tpknn)"
   ]
  },
  {
   "cell_type": "code",
   "execution_count": null,
   "metadata": {},
   "outputs": [],
   "source": []
  },
  {
   "cell_type": "code",
   "execution_count": 792,
   "metadata": {},
   "outputs": [],
   "source": [
    "########Linear Discriminant Analysis########"
   ]
  },
  {
   "cell_type": "code",
   "execution_count": 793,
   "metadata": {},
   "outputs": [
    {
     "name": "stdout",
     "output_type": "stream",
     "text": [
      "The Accuracy of the Linear Discriminant Analysis is 0.8137931034482758\n"
     ]
    }
   ],
   "source": [
    "from sklearn.discriminant_analysis import LinearDiscriminantAnalysis\n",
    "lda= LinearDiscriminantAnalysis()\n",
    "lda.fit(x_train_std,y_train)\n",
    "y_pred_lda=lda.predict(x_test_std)\n",
    "from sklearn import metrics\n",
    "accuLDA=metrics.accuracy_score(y_test,y_pred_lda)\n",
    "print('The Accuracy of the Linear Discriminant Analysis is',accuLDA)"
   ]
  },
  {
   "cell_type": "code",
   "execution_count": 794,
   "metadata": {},
   "outputs": [
    {
     "name": "stdout",
     "output_type": "stream",
     "text": [
      "              precision    recall  f1-score   support\n",
      "\n",
      "           0       0.84      0.91      0.87       103\n",
      "           1       0.73      0.57      0.64        42\n",
      "\n",
      "    accuracy                           0.81       145\n",
      "   macro avg       0.78      0.74      0.76       145\n",
      "weighted avg       0.81      0.81      0.81       145\n",
      "\n",
      "[[94  9]\n",
      " [18 24]]\n"
     ]
    }
   ],
   "source": [
    "print(metrics.classification_report(y_test,y_pred_lda))\n",
    "print(metrics.confusion_matrix(y_test,y_pred_lda))"
   ]
  },
  {
   "cell_type": "code",
   "execution_count": 795,
   "metadata": {},
   "outputs": [
    {
     "name": "stdout",
     "output_type": "stream",
     "text": [
      "Sensitivity is  0.912621359223301\n",
      "Specificity is  0.5714285714285714\n"
     ]
    }
   ],
   "source": [
    "TP,TN,FP,FN=94,24,18,9\n",
    "alda=sens(TP,FN)\n",
    "blda=spec(TN,FP)\n",
    "print(\"Sensitivity is \",alda)\n",
    "print(\"Specificity is \",blda)"
   ]
  },
  {
   "cell_type": "code",
   "execution_count": 796,
   "metadata": {},
   "outputs": [
    {
     "name": "stdout",
     "output_type": "stream",
     "text": [
      "AUC for Linear Discriminant Analysis is :  0.8580674988441979\n"
     ]
    }
   ],
   "source": [
    "probas_pred_lda=lda.predict_proba(x_test_std)\n",
    "fplda, tplda, thresholdslda = roc_curve(y_test,probas_pred_lda[:,1],pos_label=1)\n",
    "roc_auc_lda=auc(fplda, tplda)\n",
    "print(\"AUC for Linear Discriminant Analysis is : \",roc_auc_lda)"
   ]
  },
  {
   "cell_type": "code",
   "execution_count": 797,
   "metadata": {},
   "outputs": [],
   "source": [
    "def plot_roc_curve(fplda,tplda):\n",
    "    plt.plot(fplda,tplda,color='brown',label='ROC')\n",
    "    plt.plot([0,1],[0,1],color='black',linestyle='--')\n",
    "    plt.xlabel('False Positive Rate')\n",
    "    plt.ylabel('True Positive Rate')\n",
    "    plt.title('Receiver Operating Characteristic (ROC) Curve ')\n",
    "    plt.legend()\n",
    "    plt.show"
   ]
  },
  {
   "cell_type": "code",
   "execution_count": 798,
   "metadata": {},
   "outputs": [
    {
     "data": {
      "image/png": "[encoded data removed]",
      "text/plain": [
       "<Figure size 432x288 with 1 Axes>"
      ]
     },
     "metadata": {},
     "output_type": "display_data"
    }
   ],
   "source": [
    "plot_roc_curve(fplda,tplda)"
   ]
  },
  {
   "cell_type": "code",
   "execution_count": null,
   "metadata": {},
   "outputs": [],
   "source": []
  },
  {
   "cell_type": "code",
   "execution_count": 799,
   "metadata": {},
   "outputs": [],
   "source": [
    "########Random Forest Classifier########"
   ]
  },
  {
   "cell_type": "code",
   "execution_count": 800,
   "metadata": {},
   "outputs": [
    {
     "data": {
      "text/plain": [
       "RandomizedSearchCV(cv=10, estimator=RandomForestClassifier(), n_iter=20,\n",
       "                   param_distributions={'n_estimators': [200, 500, 1000]},\n",
       "                   scoring='accuracy')"
      ]
     },
     "execution_count": 800,
     "metadata": {},
     "output_type": "execute_result"
    }
   ],
   "source": [
    "from sklearn.ensemble import RandomForestClassifier\n",
    "rfc=RandomForestClassifier()\n",
    "param_grid={'n_estimators':[200,500,1000]}\n",
    "grid_rfc=RandomizedSearchCV(rfc,param_grid,n_iter=20,scoring='accuracy',cv=10,refit=True)\n",
    "grid_rfc.fit(x_train_std,y_train)"
   ]
  },
  {
   "cell_type": "code",
   "execution_count": 801,
   "metadata": {},
   "outputs": [],
   "source": [
    "# n_iter= (number of iterations) or (trial and score)\n",
    "# RandomizedSearchCV implements a “fit”, “score” method,predict,etc,etc"
   ]
  },
  {
   "cell_type": "code",
   "execution_count": 802,
   "metadata": {},
   "outputs": [
    {
     "name": "stdout",
     "output_type": "stream",
     "text": [
      "Tuned Parameters==> {'n_estimators': 200}\n"
     ]
    }
   ],
   "source": [
    "print(\"Tuned Parameters==>\",grid_rfc.best_params_)"
   ]
  },
  {
   "cell_type": "code",
   "execution_count": 803,
   "metadata": {},
   "outputs": [
    {
     "data": {
      "text/plain": [
       "RandomForestClassifier(n_estimators=200)"
      ]
     },
     "execution_count": 803,
     "metadata": {},
     "output_type": "execute_result"
    }
   ],
   "source": [
    "rfc=RandomForestClassifier(n_estimators=200)\n",
    "rfc.fit(x_train_std,y_train)"
   ]
  },
  {
   "cell_type": "code",
   "execution_count": 804,
   "metadata": {},
   "outputs": [
    {
     "name": "stdout",
     "output_type": "stream",
     "text": [
      "Accuracy for Random Forest Classifier is 0.7862068965517242\n"
     ]
    }
   ],
   "source": [
    "y_pred_rfc=rfc.predict(x_test_std)\n",
    "from sklearn import metrics\n",
    "accuRF=metrics.accuracy_score(y_test,y_pred_rfc)\n",
    "print(\"Accuracy for Random Forest Classifier is\",accuRF)"
   ]
  },
  {
   "cell_type": "code",
   "execution_count": 805,
   "metadata": {},
   "outputs": [
    {
     "name": "stdout",
     "output_type": "stream",
     "text": [
      "              precision    recall  f1-score   support\n",
      "\n",
      "           0       0.83      0.87      0.85       103\n",
      "           1       0.65      0.57      0.61        42\n",
      "\n",
      "    accuracy                           0.79       145\n",
      "   macro avg       0.74      0.72      0.73       145\n",
      "weighted avg       0.78      0.79      0.78       145\n",
      "\n",
      "[[90 13]\n",
      " [18 24]]\n"
     ]
    }
   ],
   "source": [
    "print(metrics.classification_report(y_test,y_pred_rfc))\n",
    "print(metrics.confusion_matrix(y_test,y_pred_rfc))"
   ]
  },
  {
   "cell_type": "code",
   "execution_count": 806,
   "metadata": {},
   "outputs": [
    {
     "name": "stdout",
     "output_type": "stream",
     "text": [
      "Sensitivity is  0.8737864077669902\n",
      "Specificity is  0.5714285714285714\n"
     ]
    }
   ],
   "source": [
    "TP,TN,FP,FN=90,24,18,13\n",
    "arf=sens(TP,FN)\n",
    "brf=spec(TN,FP)\n",
    "print(\"Sensitivity is \",arf)\n",
    "print(\"Specificity is \",brf)"
   ]
  },
  {
   "cell_type": "code",
   "execution_count": 807,
   "metadata": {},
   "outputs": [
    {
     "name": "stdout",
     "output_type": "stream",
     "text": [
      "AUC for Random Forest :  0.8504392048081368\n"
     ]
    }
   ],
   "source": [
    "probas_pred_rfc=rfc.predict_proba(x_test_std)\n",
    "fprf, tprf, thresholdsrf = roc_curve(y_test,probas_pred_rfc[:,1],pos_label=1)\n",
    "roc_auc_rf=auc(fprf, tprf)\n",
    "print(\"AUC for Random Forest : \",roc_auc_rf)"
   ]
  },
  {
   "cell_type": "code",
   "execution_count": 808,
   "metadata": {},
   "outputs": [],
   "source": [
    "def plot_roc_curve(fprf,tprf):\n",
    "    plt.plot(fprf,tprf,color='red',label='ROC')\n",
    "    plt.plot([0,1],[0,1],color='black',linestyle='--')\n",
    "    plt.xlabel('False Positive Rate')\n",
    "    plt.ylabel('True Positive Rate')\n",
    "    plt.title('Receiver Operating Characteristic (ROC) Curve ')\n",
    "    plt.legend()\n",
    "    plt.show"
   ]
  },
  {
   "cell_type": "code",
   "execution_count": 809,
   "metadata": {},
   "outputs": [
    {
     "data": {
      "image/png": "[encoded data removed]",
      "text/plain": [
       "<Figure size 432x288 with 1 Axes>"
      ]
     },
     "metadata": {},
     "output_type": "display_data"
    }
   ],
   "source": [
    "plot_roc_curve(fprf,tprf)"
   ]
  },
  {
   "cell_type": "code",
   "execution_count": null,
   "metadata": {},
   "outputs": [],
   "source": []
  },
  {
   "cell_type": "code",
   "execution_count": 810,
   "metadata": {},
   "outputs": [],
   "source": [
    "#######Logistic Regression######"
   ]
  },
  {
   "cell_type": "code",
   "execution_count": 811,
   "metadata": {},
   "outputs": [
    {
     "name": "stdout",
     "output_type": "stream",
     "text": [
      "The Accuracy of the Logistic Regression is 0.8137931034482758\n"
     ]
    }
   ],
   "source": [
    "from sklearn.linear_model import LogisticRegression\n",
    "model_lr= LogisticRegression()\n",
    "model_lr.fit(x_train_std,y_train)\n",
    "y_pred_lr=model_lr.predict(x_test_std)\n",
    "from sklearn import metrics\n",
    "accuLR=metrics.accuracy_score(y_test,y_pred_lr)\n",
    "print('The Accuracy of the Logistic Regression is',accuLR)"
   ]
  },
  {
   "cell_type": "code",
   "execution_count": 812,
   "metadata": {},
   "outputs": [
    {
     "name": "stdout",
     "output_type": "stream",
     "text": [
      "              precision    recall  f1-score   support\n",
      "\n",
      "           0       0.84      0.91      0.87       103\n",
      "           1       0.73      0.57      0.64        42\n",
      "\n",
      "    accuracy                           0.81       145\n",
      "   macro avg       0.78      0.74      0.76       145\n",
      "weighted avg       0.81      0.81      0.81       145\n",
      "\n",
      "[[94  9]\n",
      " [18 24]]\n"
     ]
    }
   ],
   "source": [
    "print(metrics.classification_report(y_test,y_pred_lr))\n",
    "print(metrics.confusion_matrix(y_test,y_pred_lr))"
   ]
  },
  {
   "cell_type": "code",
   "execution_count": 813,
   "metadata": {},
   "outputs": [
    {
     "name": "stdout",
     "output_type": "stream",
     "text": [
      "Sensitivity is  0.912621359223301\n",
      "Specificity is  0.5714285714285714\n"
     ]
    }
   ],
   "source": [
    "TP,TN,FP,FN=94,24,18,9\n",
    "alr=sens(TP,FN)\n",
    "blr=spec(TN,FP)\n",
    "print(\"Sensitivity is \",alr)\n",
    "print(\"Specificity is \",blr)"
   ]
  },
  {
   "cell_type": "code",
   "execution_count": 814,
   "metadata": {},
   "outputs": [
    {
     "name": "stdout",
     "output_type": "stream",
     "text": [
      "AUC for Logistic Regression Model :  0.8566805362921868\n"
     ]
    }
   ],
   "source": [
    "probas_pred_lr=model_lr.predict_proba(x_test_std)\n",
    "fplr, tplr, thresholdslr = roc_curve(y_test,probas_pred_lr[:,1],pos_label=1)\n",
    "roc_auc_lr=auc(fplr, tplr)\n",
    "print(\"AUC for Logistic Regression Model : \",roc_auc_lr)"
   ]
  },
  {
   "cell_type": "code",
   "execution_count": 815,
   "metadata": {},
   "outputs": [],
   "source": [
    "def plot_roc_curve(fplr,tplr):\n",
    "    plt.plot(fplr,tplr,color='blue',label='ROC')\n",
    "    plt.plot([0,1],[0,1],color='black',linestyle='--')\n",
    "    plt.xlabel('False Positive Rate')\n",
    "    plt.ylabel('True Positive Rate')\n",
    "    plt.title('Receiver Operating Characteristic (ROC) Curve ')\n",
    "    plt.legend()\n",
    "    plt.show"
   ]
  },
  {
   "cell_type": "code",
   "execution_count": 816,
   "metadata": {},
   "outputs": [
    {
     "data": {
      "image/png": "[encoded data removed]",
      "text/plain": [
       "<Figure size 432x288 with 1 Axes>"
      ]
     },
     "metadata": {},
     "output_type": "display_data"
    }
   ],
   "source": [
    "plot_roc_curve(fplr,tplr)"
   ]
  },
  {
   "cell_type": "code",
   "execution_count": null,
   "metadata": {},
   "outputs": [],
   "source": []
  },
  {
   "cell_type": "code",
   "execution_count": 817,
   "metadata": {},
   "outputs": [],
   "source": [
    "#############Decision Tress##########"
   ]
  },
  {
   "cell_type": "code",
   "execution_count": 818,
   "metadata": {},
   "outputs": [
    {
     "name": "stdout",
     "output_type": "stream",
     "text": [
      "The Accuracy of Decision tree model is 0.7241379310344828\n"
     ]
    }
   ],
   "source": [
    "from sklearn.tree import DecisionTreeClassifier\n",
    "model_dt=DecisionTreeClassifier()\n",
    "model_dt.fit(x_train_std,y_train)\n",
    "y_pred_dt=model_dt.predict(x_test_std)\n",
    "from sklearn import metrics\n",
    "accuDT=metrics.accuracy_score(y_test,y_pred_dt)\n",
    "print('The Accuracy of Decision tree model is',accuDT)"
   ]
  },
  {
   "cell_type": "code",
   "execution_count": 819,
   "metadata": {},
   "outputs": [
    {
     "name": "stdout",
     "output_type": "stream",
     "text": [
      "              precision    recall  f1-score   support\n",
      "\n",
      "           0       0.82      0.79      0.80       103\n",
      "           1       0.52      0.57      0.55        42\n",
      "\n",
      "    accuracy                           0.72       145\n",
      "   macro avg       0.67      0.68      0.67       145\n",
      "weighted avg       0.73      0.72      0.73       145\n",
      "\n",
      "[[81 22]\n",
      " [18 24]]\n"
     ]
    }
   ],
   "source": [
    "test_pred_dt=model_dt.predict(x_test_std)\n",
    "print(metrics.classification_report(y_test,test_pred_dt))\n",
    "print(metrics.confusion_matrix(y_test,test_pred_dt))"
   ]
  },
  {
   "cell_type": "code",
   "execution_count": 820,
   "metadata": {},
   "outputs": [
    {
     "name": "stdout",
     "output_type": "stream",
     "text": [
      "Sensitivity is  0.8181818181818182\n",
      "Specificity is  0.5217391304347826\n"
     ]
    }
   ],
   "source": [
    "TP,TN,FP,FN=81,24,22,18\n",
    "adt=sens(TP,FN)\n",
    "bdt=spec(TN,FP)\n",
    "print(\"Sensitivity is \",adt)\n",
    "print(\"Specificity is \",bdt)\n"
   ]
  },
  {
   "cell_type": "code",
   "execution_count": 821,
   "metadata": {},
   "outputs": [
    {
     "name": "stdout",
     "output_type": "stream",
     "text": [
      "AUC for Decision Trees :  0.6789181692094313\n"
     ]
    }
   ],
   "source": [
    "probas_pred_dt=model_dt.predict_proba(x_test_std)\n",
    "fpdt, tpdt, thresholdsdt = roc_curve(y_test,probas_pred_dt[:,1],pos_label=1)\n",
    "roc_auc_dt=auc(fpdt, tpdt)\n",
    "print(\"AUC for Decision Trees : \",roc_auc_dt)"
   ]
  },
  {
   "cell_type": "code",
   "execution_count": 822,
   "metadata": {},
   "outputs": [],
   "source": [
    "def plot_roc_curve(fpdt,tpdt):\n",
    "    plt.plot(fpdt,tpdt,color='grey',label='ROC')\n",
    "    plt.plot([0,1],[0,1],color='black',linestyle='--')\n",
    "    plt.xlabel('False Positive Rate')\n",
    "    plt.ylabel('True Positive Rate')\n",
    "    plt.title('Receiver Operating Characteristic (ROC) Curve ')\n",
    "    plt.legend()\n",
    "    plt.show"
   ]
  },
  {
   "cell_type": "code",
   "execution_count": 823,
   "metadata": {},
   "outputs": [
    {
     "data": {
      "image/png": "[encoded data removed]",
      "text/plain": [
       "<Figure size 432x288 with 1 Axes>"
      ]
     },
     "metadata": {},
     "output_type": "display_data"
    }
   ],
   "source": [
    "plot_roc_curve(fpdt,tpdt)"
   ]
  },
  {
   "cell_type": "code",
   "execution_count": null,
   "metadata": {},
   "outputs": [],
   "source": []
  },
  {
   "cell_type": "code",
   "execution_count": 824,
   "metadata": {},
   "outputs": [],
   "source": [
    "##########SVC-linear############"
   ]
  },
  {
   "cell_type": "code",
   "execution_count": 825,
   "metadata": {},
   "outputs": [
    {
     "name": "stdout",
     "output_type": "stream",
     "text": [
      "Accuracy for SVC-linear Classifier is 0.8137931034482758\n"
     ]
    }
   ],
   "source": [
    "from sklearn.svm import SVC\n",
    "svc_linear= SVC(C= 0.5, kernel= 'linear', random_state= 0, probability=True)\n",
    "svc_linear.fit(x_train_std, y_train)\n",
    "y_pred_svc_linear=svc_linear.predict(x_test_std)\n",
    "from sklearn import metrics\n",
    "accuSVC_linear=metrics.accuracy_score(y_test,y_pred_svc_linear)\n",
    "print(\"Accuracy for SVC-linear Classifier is\",accuSVC_linear)"
   ]
  },
  {
   "cell_type": "code",
   "execution_count": 826,
   "metadata": {},
   "outputs": [
    {
     "name": "stdout",
     "output_type": "stream",
     "text": [
      "              precision    recall  f1-score   support\n",
      "\n",
      "           0       0.84      0.91      0.87       103\n",
      "           1       0.73      0.57      0.64        42\n",
      "\n",
      "    accuracy                           0.81       145\n",
      "   macro avg       0.78      0.74      0.76       145\n",
      "weighted avg       0.81      0.81      0.81       145\n",
      "\n",
      "[[94  9]\n",
      " [18 24]]\n"
     ]
    }
   ],
   "source": [
    "print(metrics.classification_report(y_test,y_pred_svc_linear))\n",
    "print(metrics.confusion_matrix(y_test,y_pred_svc_linear))"
   ]
  },
  {
   "cell_type": "code",
   "execution_count": 827,
   "metadata": {},
   "outputs": [
    {
     "name": "stdout",
     "output_type": "stream",
     "text": [
      "Sensitivity is  0.912621359223301\n",
      "Specificity is  0.5714285714285714\n"
     ]
    }
   ],
   "source": [
    "TP,TN,FP,FN=94,24,18,9\n",
    "asvclinear=sens(TP,FN)\n",
    "bsvclinear=spec(TN,FP)\n",
    "print(\"Sensitivity is \",asvclinear)\n",
    "print(\"Specificity is \",bsvclinear)"
   ]
  },
  {
   "cell_type": "code",
   "execution_count": 828,
   "metadata": {},
   "outputs": [
    {
     "name": "stdout",
     "output_type": "stream",
     "text": [
      "AUC for SVC-linear :  0.858067498844198\n"
     ]
    }
   ],
   "source": [
    "from sklearn.metrics import auc\n",
    "from sklearn.metrics import roc_curve\n",
    "from sklearn.metrics import roc_auc_score\n",
    "probas_pred_svc_linear=svc_linear.predict_proba(x_test_std)\n",
    "fpsvclinear, tpsvclinear, thresholdssvclinear = roc_curve(y_test,probas_pred_svc_linear[:,1],pos_label=1)\n",
    "roc_auc_svc_linear=auc(fpsvclinear, tpsvclinear)\n",
    "print(\"AUC for SVC-linear : \",roc_auc_svc_linear)"
   ]
  },
  {
   "cell_type": "code",
   "execution_count": 829,
   "metadata": {},
   "outputs": [],
   "source": [
    "def plot_roc_curve(fpsvclinear,tpsvclinear):\n",
    "    plt.plot(fpsvclinear,tpsvclinear,color='cyan',label='ROC')\n",
    "    plt.plot([0,1],[0,1],color='black',linestyle='--')\n",
    "    plt.xlabel('False Positive Rate')\n",
    "    plt.ylabel('True Positive Rate')\n",
    "    plt.title('Receiver Operating Characteristic (ROC) Curve ')\n",
    "    plt.legend()\n",
    "    plt.show"
   ]
  },
  {
   "cell_type": "code",
   "execution_count": 830,
   "metadata": {},
   "outputs": [
    {
     "data": {
      "image/png": "[encoded data removed]",
      "text/plain": [
       "<Figure size 432x288 with 1 Axes>"
      ]
     },
     "metadata": {},
     "output_type": "display_data"
    }
   ],
   "source": [
    "plot_roc_curve(fpsvclinear,tpsvclinear)"
   ]
  },
  {
   "cell_type": "code",
   "execution_count": null,
   "metadata": {},
   "outputs": [],
   "source": []
  },
  {
   "cell_type": "code",
   "execution_count": 831,
   "metadata": {},
   "outputs": [],
   "source": [
    "#########SVC-radial##########"
   ]
  },
  {
   "cell_type": "code",
   "execution_count": 832,
   "metadata": {},
   "outputs": [
    {
     "name": "stdout",
     "output_type": "stream",
     "text": [
      "Accuracy for SVC-radial Classifier is 0.8068965517241379\n"
     ]
    }
   ],
   "source": [
    "from sklearn.svm import SVC\n",
    "svc_radial= SVC(C=0.5, kernel= 'rbf',random_state= 0, gamma=0.12,tol=0.00001, probability=True)\n",
    "svc_radial.fit(x_train_std, y_train)\n",
    "y_pred_svc_radial=svc_radial.predict(x_test_std)\n",
    "from sklearn import metrics\n",
    "accuSVC_radial=metrics.accuracy_score(y_test,y_pred_svc_radial)\n",
    "print(\"Accuracy for SVC-radial Classifier is\",accuSVC_radial)"
   ]
  },
  {
   "cell_type": "code",
   "execution_count": 833,
   "metadata": {},
   "outputs": [
    {
     "name": "stdout",
     "output_type": "stream",
     "text": [
      "              precision    recall  f1-score   support\n",
      "\n",
      "           0       0.82      0.93      0.87       103\n",
      "           1       0.75      0.50      0.60        42\n",
      "\n",
      "    accuracy                           0.81       145\n",
      "   macro avg       0.79      0.72      0.74       145\n",
      "weighted avg       0.80      0.81      0.79       145\n",
      "\n",
      "[[96  7]\n",
      " [21 21]]\n"
     ]
    }
   ],
   "source": [
    "print(metrics.classification_report(y_test,y_pred_svc_radial))\n",
    "print(metrics.confusion_matrix(y_test,y_pred_svc_radial))"
   ]
  },
  {
   "cell_type": "code",
   "execution_count": 834,
   "metadata": {},
   "outputs": [
    {
     "name": "stdout",
     "output_type": "stream",
     "text": [
      "Sensitivity is  0.9320388349514563\n",
      "Specificity is  0.5\n"
     ]
    }
   ],
   "source": [
    "TP,TN,FP,FN=96,21,21,7\n",
    "asvcradial=sens(TP,FN)\n",
    "bsvcradial=spec(TN,FP)\n",
    "print(\"Sensitivity is \",asvcradial)\n",
    "print(\"Specificity is \",bsvcradial)"
   ]
  },
  {
   "cell_type": "code",
   "execution_count": 835,
   "metadata": {},
   "outputs": [
    {
     "name": "stdout",
     "output_type": "stream",
     "text": [
      "AUC for SVC-radial :  0.8675450762829403\n"
     ]
    }
   ],
   "source": [
    "from sklearn.metrics import auc\n",
    "from sklearn.metrics import roc_curve\n",
    "from sklearn.metrics import roc_auc_score\n",
    "probas_pred_svc_radial=svc_radial.predict_proba(x_test_std)\n",
    "fpsvcradial, tpsvcradial, thresholdssvcradial = roc_curve(y_test,probas_pred_svc_radial[:,1],pos_label=1)\n",
    "roc_auc_svc_radial=auc(fpsvcradial, tpsvcradial)\n",
    "print(\"AUC for SVC-radial : \",roc_auc_svc_radial)"
   ]
  },
  {
   "cell_type": "code",
   "execution_count": 836,
   "metadata": {},
   "outputs": [],
   "source": [
    "def plot_roc_curve(fpsvcradial,tpsvcradial):\n",
    "    plt.plot(fpsvcradial,tpsvcradial,color='violet',label='ROC')\n",
    "    plt.plot([0,1],[0,1],color='black',linestyle='--')\n",
    "    plt.xlabel('False Positive Rate')\n",
    "    plt.ylabel('True Positive Rate')\n",
    "    plt.title('Receiver Operating Characteristic (ROC) Curve ')\n",
    "    plt.legend()\n",
    "    plt.show"
   ]
  },
  {
   "cell_type": "code",
   "execution_count": 837,
   "metadata": {},
   "outputs": [
    {
     "data": {
      "image/png": "[encoded data removed]",
      "text/plain": [
       "<Figure size 432x288 with 1 Axes>"
      ]
     },
     "metadata": {},
     "output_type": "display_data"
    }
   ],
   "source": [
    "plot_roc_curve(fpsvcradial,tpsvcradial)"
   ]
  },
  {
   "cell_type": "code",
   "execution_count": 838,
   "metadata": {},
   "outputs": [
    {
     "data": {
      "image/png": "[encoded data removed]",
      "text/plain": [
       "<Figure size 432x288 with 1 Axes>"
      ]
     },
     "metadata": {},
     "output_type": "display_data"
    }
   ],
   "source": [
    "plt.plot(fpnb,tpnb,color='orange',label='Naive Bayes')\n",
    "plt.plot(fpknn,tpknn,color='green',label='KNN')\n",
    "plt.plot(fplda,tplda,color='brown',label='Linear Discriminant Analysis')\n",
    "plt.plot(fprf,tprf,color='red',label='Random Forest')\n",
    "plt.plot(fplr,tplr,color='blue',label='Logistic Regression')\n",
    "plt.plot(fpdt,tpdt,color='grey',label='Decision Tree')\n",
    "plt.plot(fpsvclinear,tpsvclinear,color='cyan',label='SVC-linear')\n",
    "plt.plot(fpsvcradial,tpsvcradial,color='violet',label='SVC-radial')\n",
    "plt.plot([0,1],[0,1],color='black',linestyle='--')\n",
    "plt.xlabel('False Positive Rate')\n",
    "plt.ylabel('True Positive Rate')\n",
    "plt.title('Receiver Operating Characteristic (ROC) Curve ')\n",
    "plt.legend()\n",
    "plt.show\n",
    "plt.legend(loc='best')\n",
    "plt.savefig('ROC',dpi=300)\n",
    "plt.show();"
   ]
  },
  {
   "cell_type": "code",
   "execution_count": 839,
   "metadata": {},
   "outputs": [
    {
     "data": {
      "text/html": [
       "<style  type=\"text/css\" >\n",
       "#T_20daf8aa_afd3_11eb_a18a_dcab22b5c19erow0_col0,#T_20daf8aa_afd3_11eb_a18a_dcab22b5c19erow0_col1,#T_20daf8aa_afd3_11eb_a18a_dcab22b5c19erow0_col2,#T_20daf8aa_afd3_11eb_a18a_dcab22b5c19erow0_col3,#T_20daf8aa_afd3_11eb_a18a_dcab22b5c19erow0_col4,#T_20daf8aa_afd3_11eb_a18a_dcab22b5c19erow1_col0,#T_20daf8aa_afd3_11eb_a18a_dcab22b5c19erow1_col1,#T_20daf8aa_afd3_11eb_a18a_dcab22b5c19erow1_col2,#T_20daf8aa_afd3_11eb_a18a_dcab22b5c19erow1_col3,#T_20daf8aa_afd3_11eb_a18a_dcab22b5c19erow1_col4,#T_20daf8aa_afd3_11eb_a18a_dcab22b5c19erow2_col0,#T_20daf8aa_afd3_11eb_a18a_dcab22b5c19erow2_col1,#T_20daf8aa_afd3_11eb_a18a_dcab22b5c19erow2_col2,#T_20daf8aa_afd3_11eb_a18a_dcab22b5c19erow2_col3,#T_20daf8aa_afd3_11eb_a18a_dcab22b5c19erow2_col4,#T_20daf8aa_afd3_11eb_a18a_dcab22b5c19erow3_col0,#T_20daf8aa_afd3_11eb_a18a_dcab22b5c19erow3_col1,#T_20daf8aa_afd3_11eb_a18a_dcab22b5c19erow3_col2,#T_20daf8aa_afd3_11eb_a18a_dcab22b5c19erow3_col3,#T_20daf8aa_afd3_11eb_a18a_dcab22b5c19erow3_col4,#T_20daf8aa_afd3_11eb_a18a_dcab22b5c19erow4_col0,#T_20daf8aa_afd3_11eb_a18a_dcab22b5c19erow4_col1,#T_20daf8aa_afd3_11eb_a18a_dcab22b5c19erow4_col2,#T_20daf8aa_afd3_11eb_a18a_dcab22b5c19erow4_col3,#T_20daf8aa_afd3_11eb_a18a_dcab22b5c19erow4_col4,#T_20daf8aa_afd3_11eb_a18a_dcab22b5c19erow5_col0,#T_20daf8aa_afd3_11eb_a18a_dcab22b5c19erow5_col1,#T_20daf8aa_afd3_11eb_a18a_dcab22b5c19erow5_col2,#T_20daf8aa_afd3_11eb_a18a_dcab22b5c19erow5_col3,#T_20daf8aa_afd3_11eb_a18a_dcab22b5c19erow5_col4,#T_20daf8aa_afd3_11eb_a18a_dcab22b5c19erow6_col0,#T_20daf8aa_afd3_11eb_a18a_dcab22b5c19erow6_col1,#T_20daf8aa_afd3_11eb_a18a_dcab22b5c19erow6_col2,#T_20daf8aa_afd3_11eb_a18a_dcab22b5c19erow6_col3,#T_20daf8aa_afd3_11eb_a18a_dcab22b5c19erow6_col4,#T_20daf8aa_afd3_11eb_a18a_dcab22b5c19erow7_col0,#T_20daf8aa_afd3_11eb_a18a_dcab22b5c19erow7_col1,#T_20daf8aa_afd3_11eb_a18a_dcab22b5c19erow7_col2,#T_20daf8aa_afd3_11eb_a18a_dcab22b5c19erow7_col3,#T_20daf8aa_afd3_11eb_a18a_dcab22b5c19erow7_col4{\n",
       "            text-align:  left;\n",
       "        }</style><table id=\"T_20daf8aa_afd3_11eb_a18a_dcab22b5c19e\" ><thead>    <tr>        <th class=\"blank level0\" ></th>        <th class=\"col_heading level0 col0\" >Model</th>        <th class=\"col_heading level0 col1\" >Accuracy</th>        <th class=\"col_heading level0 col2\" >AUC</th>        <th class=\"col_heading level0 col3\" >Sensitivity</th>        <th class=\"col_heading level0 col4\" >Specificity</th>    </tr></thead><tbody>\n",
       "                <tr>\n",
       "                        <th id=\"T_20daf8aa_afd3_11eb_a18a_dcab22b5c19elevel0_row0\" class=\"row_heading level0 row0\" >0</th>\n",
       "                        <td id=\"T_20daf8aa_afd3_11eb_a18a_dcab22b5c19erow0_col0\" class=\"data row0 col0\" >Gaussian NB</td>\n",
       "                        <td id=\"T_20daf8aa_afd3_11eb_a18a_dcab22b5c19erow0_col1\" class=\"data row0 col1\" >0.793103</td>\n",
       "                        <td id=\"T_20daf8aa_afd3_11eb_a18a_dcab22b5c19erow0_col2\" class=\"data row0 col2\" >0.860610</td>\n",
       "                        <td id=\"T_20daf8aa_afd3_11eb_a18a_dcab22b5c19erow0_col3\" class=\"data row0 col3\" >0.873786</td>\n",
       "                        <td id=\"T_20daf8aa_afd3_11eb_a18a_dcab22b5c19erow0_col4\" class=\"data row0 col4\" >0.595238</td>\n",
       "            </tr>\n",
       "            <tr>\n",
       "                        <th id=\"T_20daf8aa_afd3_11eb_a18a_dcab22b5c19elevel0_row1\" class=\"row_heading level0 row1\" >1</th>\n",
       "                        <td id=\"T_20daf8aa_afd3_11eb_a18a_dcab22b5c19erow1_col0\" class=\"data row1 col0\" >K-Nearest Neighbours</td>\n",
       "                        <td id=\"T_20daf8aa_afd3_11eb_a18a_dcab22b5c19erow1_col1\" class=\"data row1 col1\" >0.827586</td>\n",
       "                        <td id=\"T_20daf8aa_afd3_11eb_a18a_dcab22b5c19erow1_col2\" class=\"data row1 col2\" >0.882917</td>\n",
       "                        <td id=\"T_20daf8aa_afd3_11eb_a18a_dcab22b5c19erow1_col3\" class=\"data row1 col3\" >0.951456</td>\n",
       "                        <td id=\"T_20daf8aa_afd3_11eb_a18a_dcab22b5c19erow1_col4\" class=\"data row1 col4\" >0.523810</td>\n",
       "            </tr>\n",
       "            <tr>\n",
       "                        <th id=\"T_20daf8aa_afd3_11eb_a18a_dcab22b5c19elevel0_row2\" class=\"row_heading level0 row2\" >2</th>\n",
       "                        <td id=\"T_20daf8aa_afd3_11eb_a18a_dcab22b5c19erow2_col0\" class=\"data row2 col0\" >Linear Discriminant Analysis</td>\n",
       "                        <td id=\"T_20daf8aa_afd3_11eb_a18a_dcab22b5c19erow2_col1\" class=\"data row2 col1\" >0.813793</td>\n",
       "                        <td id=\"T_20daf8aa_afd3_11eb_a18a_dcab22b5c19erow2_col2\" class=\"data row2 col2\" >0.858067</td>\n",
       "                        <td id=\"T_20daf8aa_afd3_11eb_a18a_dcab22b5c19erow2_col3\" class=\"data row2 col3\" >0.912621</td>\n",
       "                        <td id=\"T_20daf8aa_afd3_11eb_a18a_dcab22b5c19erow2_col4\" class=\"data row2 col4\" >0.571429</td>\n",
       "            </tr>\n",
       "            <tr>\n",
       "                        <th id=\"T_20daf8aa_afd3_11eb_a18a_dcab22b5c19elevel0_row3\" class=\"row_heading level0 row3\" >3</th>\n",
       "                        <td id=\"T_20daf8aa_afd3_11eb_a18a_dcab22b5c19erow3_col0\" class=\"data row3 col0\" >Random Forest</td>\n",
       "                        <td id=\"T_20daf8aa_afd3_11eb_a18a_dcab22b5c19erow3_col1\" class=\"data row3 col1\" >0.786207</td>\n",
       "                        <td id=\"T_20daf8aa_afd3_11eb_a18a_dcab22b5c19erow3_col2\" class=\"data row3 col2\" >0.850439</td>\n",
       "                        <td id=\"T_20daf8aa_afd3_11eb_a18a_dcab22b5c19erow3_col3\" class=\"data row3 col3\" >0.873786</td>\n",
       "                        <td id=\"T_20daf8aa_afd3_11eb_a18a_dcab22b5c19erow3_col4\" class=\"data row3 col4\" >0.571429</td>\n",
       "            </tr>\n",
       "            <tr>\n",
       "                        <th id=\"T_20daf8aa_afd3_11eb_a18a_dcab22b5c19elevel0_row4\" class=\"row_heading level0 row4\" >4</th>\n",
       "                        <td id=\"T_20daf8aa_afd3_11eb_a18a_dcab22b5c19erow4_col0\" class=\"data row4 col0\" >Logistic</td>\n",
       "                        <td id=\"T_20daf8aa_afd3_11eb_a18a_dcab22b5c19erow4_col1\" class=\"data row4 col1\" >0.813793</td>\n",
       "                        <td id=\"T_20daf8aa_afd3_11eb_a18a_dcab22b5c19erow4_col2\" class=\"data row4 col2\" >0.856681</td>\n",
       "                        <td id=\"T_20daf8aa_afd3_11eb_a18a_dcab22b5c19erow4_col3\" class=\"data row4 col3\" >0.912621</td>\n",
       "                        <td id=\"T_20daf8aa_afd3_11eb_a18a_dcab22b5c19erow4_col4\" class=\"data row4 col4\" >0.571429</td>\n",
       "            </tr>\n",
       "            <tr>\n",
       "                        <th id=\"T_20daf8aa_afd3_11eb_a18a_dcab22b5c19elevel0_row5\" class=\"row_heading level0 row5\" >5</th>\n",
       "                        <td id=\"T_20daf8aa_afd3_11eb_a18a_dcab22b5c19erow5_col0\" class=\"data row5 col0\" >Decision Tress</td>\n",
       "                        <td id=\"T_20daf8aa_afd3_11eb_a18a_dcab22b5c19erow5_col1\" class=\"data row5 col1\" >0.724138</td>\n",
       "                        <td id=\"T_20daf8aa_afd3_11eb_a18a_dcab22b5c19erow5_col2\" class=\"data row5 col2\" >0.678918</td>\n",
       "                        <td id=\"T_20daf8aa_afd3_11eb_a18a_dcab22b5c19erow5_col3\" class=\"data row5 col3\" >0.818182</td>\n",
       "                        <td id=\"T_20daf8aa_afd3_11eb_a18a_dcab22b5c19erow5_col4\" class=\"data row5 col4\" >0.521739</td>\n",
       "            </tr>\n",
       "            <tr>\n",
       "                        <th id=\"T_20daf8aa_afd3_11eb_a18a_dcab22b5c19elevel0_row6\" class=\"row_heading level0 row6\" >6</th>\n",
       "                        <td id=\"T_20daf8aa_afd3_11eb_a18a_dcab22b5c19erow6_col0\" class=\"data row6 col0\" >SVC-linear</td>\n",
       "                        <td id=\"T_20daf8aa_afd3_11eb_a18a_dcab22b5c19erow6_col1\" class=\"data row6 col1\" >0.813793</td>\n",
       "                        <td id=\"T_20daf8aa_afd3_11eb_a18a_dcab22b5c19erow6_col2\" class=\"data row6 col2\" >0.858067</td>\n",
       "                        <td id=\"T_20daf8aa_afd3_11eb_a18a_dcab22b5c19erow6_col3\" class=\"data row6 col3\" >0.912621</td>\n",
       "                        <td id=\"T_20daf8aa_afd3_11eb_a18a_dcab22b5c19erow6_col4\" class=\"data row6 col4\" >0.571429</td>\n",
       "            </tr>\n",
       "            <tr>\n",
       "                        <th id=\"T_20daf8aa_afd3_11eb_a18a_dcab22b5c19elevel0_row7\" class=\"row_heading level0 row7\" >7</th>\n",
       "                        <td id=\"T_20daf8aa_afd3_11eb_a18a_dcab22b5c19erow7_col0\" class=\"data row7 col0\" >SVC-radial</td>\n",
       "                        <td id=\"T_20daf8aa_afd3_11eb_a18a_dcab22b5c19erow7_col1\" class=\"data row7 col1\" >0.806897</td>\n",
       "                        <td id=\"T_20daf8aa_afd3_11eb_a18a_dcab22b5c19erow7_col2\" class=\"data row7 col2\" >0.867545</td>\n",
       "                        <td id=\"T_20daf8aa_afd3_11eb_a18a_dcab22b5c19erow7_col3\" class=\"data row7 col3\" >0.932039</td>\n",
       "                        <td id=\"T_20daf8aa_afd3_11eb_a18a_dcab22b5c19erow7_col4\" class=\"data row7 col4\" >0.500000</td>\n",
       "            </tr>\n",
       "    </tbody></table>"
      ],
      "text/plain": [
       "<pandas.io.formats.style.Styler at 0x28c611a9d00>"
      ]
     },
     "execution_count": 839,
     "metadata": {},
     "output_type": "execute_result"
    }
   ],
   "source": [
    "data={'Model':['Gaussian NB','K-Nearest Neighbours','Linear Discriminant Analysis','Random Forest','Logistic','Decision Tress','SVC-linear','SVC-radial'],\n",
    "     'Accuracy':[accugaussNB,accuKNN,accuLDA,accuRF,accuLR,accuDT,accuSVC_linear,accuSVC_radial],\n",
    "     'AUC':[roc_auc_nb,roc_auc_knn,roc_auc_lda,roc_auc_rf,roc_auc_lr,roc_auc_dt,roc_auc_svc_linear,roc_auc_svc_radial],\n",
    "     'Sensitivity':[anb,aknn,alda,arf,alr,adt,asvclinear,asvcradial],'Specificity':[bnb,bknn,blda,brf,blr,bdt,bsvclinear,bsvcradial]}\n",
    "df=pd.DataFrame(data)\n",
    "df_new=df.style.set_properties(**{'text-align':'left'})\n",
    "df_new"
   ]
  },
  {
   "cell_type": "code",
   "execution_count": null,
   "metadata": {},
   "outputs": [],
   "source": []
  }
 ],
 "metadata": {
  "kernelspec": {
   "display_name": "Python 3",
   "language": "python",
   "name": "python3"
  },
  "language_info": {
   "codemirror_mode": {
    "name": "ipython",
    "version": 3
   },
   "file_extension": ".py",
   "mimetype": "text/x-python",
   "name": "python",
   "nbconvert_exporter": "python",
   "pygments_lexer": "ipython3",
   "version": "3.8.5"
  }
 },
 "nbformat": 4,
 "nbformat_minor": 4
}
